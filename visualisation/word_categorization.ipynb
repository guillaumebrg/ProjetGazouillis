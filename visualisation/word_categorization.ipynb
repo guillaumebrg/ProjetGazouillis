{
 "cells": [
  {
   "cell_type": "code",
   "execution_count": 83,
   "metadata": {
    "collapsed": false
   },
   "outputs": [],
   "source": [
    "import numpy as np\n",
    "import nltk\n",
    "from nltk.tokenize.punkt import PunktSentenceTokenizer\n",
    "#nltk.download('all')"
   ]
  },
  {
   "cell_type": "markdown",
   "metadata": {},
   "source": [
    "Make sure to use nltk.download('all') the first you use the code"
   ]
  },
  {
   "cell_type": "code",
   "execution_count": 66,
   "metadata": {
    "collapsed": true
   },
   "outputs": [],
   "source": [
    "ACCEPTED_CHARACTERS = ['a', 'b', 'c', 'd', 'e', 'f', 'g', 'h', 'i', 'j', 'k', \n",
    "                       'l', 'm', 'n', 'o', 'p', 'q', 'r', 's', 't', 'u', 'v', 'w', 'x', 'y', 'z'] + \\\n",
    "['%d'%i for i in range(10)] + \\\n",
    "['/', '@', '#', '&', '|', '|', '|', '|', '|', '|', '|'] + \\\n",
    "['\\n', ' ', '!', '\"', \"'\", '(', ')', '*', ',', '-', '.', ':', ';', '?', '_','|']\n",
    "\n",
    "ACCEPTED_CHARACTERS.sort()\n",
    "ACCEPTED_CHARACTERS.append('')\n",
    "accepted_characters = ACCEPTED_CHARACTERS"
   ]
  },
  {
   "cell_type": "code",
   "execution_count": 80,
   "metadata": {
    "collapsed": true
   },
   "outputs": [],
   "source": [
    "def tweet2string(tweet, accepted_characters = ACCEPTED_CHARACTERS):\n",
    "    output = ''\n",
    "    for t in tweet:\n",
    "        output = output + accepted_characters[t[0]]\n",
    "    return output"
   ]
  },
  {
   "cell_type": "code",
   "execution_count": 49,
   "metadata": {
    "collapsed": false
   },
   "outputs": [],
   "source": [
    "tweets = np.load(\"data/dataset.npy\")"
   ]
  },
  {
   "cell_type": "markdown",
   "metadata": {},
   "source": [
    "# Categorize words in tweets"
   ]
  },
  {
   "cell_type": "code",
   "execution_count": 144,
   "metadata": {
    "collapsed": false
   },
   "outputs": [],
   "source": [
    "# adapted from http://stackoverflow.com/questions/14776317/finding-exact-position-of-tokenized-sentences\n",
    "from nltk import tokenize\n",
    "from nltk import TweetTokenizer\n",
    "\n",
    "def token_position(tweet, tags):\n",
    "    tknzr = TweetTokenizer()\n",
    "    \n",
    "    output = []\n",
    "    offset, length, offset2,length = 0, 0, 0, 0\n",
    "    for i,sentence in enumerate(tknzr.tokenize(tweet)):\n",
    "        # fix ignored characters\n",
    "        offset = tweet.find(sentence, offset)\n",
    "        length = len(sentence)\n",
    "        \n",
    "        output.append([offset, length, tags[i]])\n",
    "        offset += length\n",
    "    return output"
   ]
  },
  {
   "cell_type": "code",
   "execution_count": 145,
   "metadata": {
    "collapsed": false
   },
   "outputs": [],
   "source": [
    "def categorize_words(tweet):\n",
    "    tknzr = TweetTokenizer()\n",
    "\n",
    "    token = tknzr.tokenize(tweet)\n",
    "    tag = nltk.pos_tag(token)\n",
    "    tweet_tokenized = token_position(tweet, tag)\n",
    "    tweet_tokenized\n",
    "\n",
    "    word_position = 0\n",
    "    tags = []\n",
    "\n",
    "    for i, c in enumerate(tweet):\n",
    "\n",
    "        if i > (tweet_tokenized[word_position][0] + tweet_tokenized[word_position][1]):\n",
    "            word_position = word_position + 1\n",
    "\n",
    "        if i != (tweet_tokenized[word_position][0] + tweet_tokenized[word_position][1]) and i>=tweet_tokenized[word_position][0]:\n",
    "            tags.append(tweet_tokenized[word_position][2][1])\n",
    "        else:\n",
    "            tags.append('.')\n",
    "    return tags"
   ]
  },
  {
   "cell_type": "code",
   "execution_count": 155,
   "metadata": {
    "collapsed": false
   },
   "outputs": [
    {
     "data": {
      "text/plain": [
       "[('@', 'JJ'),\n",
       " ('s', 'JJ'),\n",
       " ('a', 'JJ'),\n",
       " ('r', 'JJ'),\n",
       " ('a', 'JJ'),\n",
       " ('h', 'JJ'),\n",
       " ('m', 'JJ'),\n",
       " ('i', 'JJ'),\n",
       " ('l', 'JJ'),\n",
       " ('l', 'JJ'),\n",
       " ('i', 'JJ'),\n",
       " ('c', 'JJ'),\n",
       " ('a', 'JJ'),\n",
       " ('n', 'JJ'),\n",
       " ('7', 'JJ'),\n",
       " ('5', 'JJ'),\n",
       " (' ', '.'),\n",
       " ('g', 'NN'),\n",
       " ('o', 'NN'),\n",
       " ('d', 'NN'),\n",
       " ('!', '.'),\n",
       " (' ', '.'),\n",
       " (' ', '.'),\n",
       " ('i', 'NN'),\n",
       " (' ', '.'),\n",
       " ('n', 'VBD'),\n",
       " ('e', 'VBD'),\n",
       " ('e', 'VBD'),\n",
       " ('d', 'VBD'),\n",
       " ('e', 'VBD'),\n",
       " ('d', 'VBD'),\n",
       " (' ', '.'),\n",
       " ('t', 'IN'),\n",
       " ('h', 'IN'),\n",
       " ('a', 'IN'),\n",
       " ('t', 'IN'),\n",
       " ('.', '.'),\n",
       " (' ', '.'),\n",
       " (' ', '.'),\n",
       " ('t', 'VB'),\n",
       " ('h', 'VB'),\n",
       " ('a', 'VB'),\n",
       " ('n', 'VB'),\n",
       " ('k', 'VB'),\n",
       " (' ', '.'),\n",
       " ('y', 'PRP'),\n",
       " ('o', 'PRP'),\n",
       " ('u', 'PRP'),\n",
       " ('.', '.'),\n",
       " (' ', '.'),\n",
       " (' ', '.'),\n",
       " ('t', 'VB'),\n",
       " ('h', 'VB'),\n",
       " ('a', 'VB'),\n",
       " ('n', 'VB'),\n",
       " ('k', 'VB'),\n",
       " (' ', '.'),\n",
       " ('y', 'PRP'),\n",
       " ('o', 'PRP'),\n",
       " ('u', 'PRP'),\n",
       " ('.', '.'),\n",
       " (' ', '.'),\n",
       " (' ', '.'),\n",
       " ('t', 'VB'),\n",
       " ('h', 'VB'),\n",
       " ('a', 'VB'),\n",
       " ('n', 'VB'),\n",
       " ('k', 'VB'),\n",
       " (' ', '.'),\n",
       " ('y', 'PRP'),\n",
       " ('o', 'PRP'),\n",
       " ('u', 'PRP'),\n",
       " ('.', '.'),\n",
       " (' ', '.'),\n",
       " (' ', '.'),\n",
       " ('f', 'IN'),\n",
       " ('r', 'IN'),\n",
       " ('o', 'IN'),\n",
       " ('m', 'IN'),\n",
       " (' ', '.'),\n",
       " ('m', 'NN'),\n",
       " ('i', 'NN'),\n",
       " ('n', 'NN'),\n",
       " ('n', 'NN'),\n",
       " ('e', 'NN'),\n",
       " ('s', 'NN'),\n",
       " ('o', 'NN'),\n",
       " ('t', 'NN'),\n",
       " ('a', 'NN'),\n",
       " ('.', '.'),\n",
       " ('|', '.')]"
      ]
     },
     "execution_count": 155,
     "metadata": {},
     "output_type": "execute_result"
    }
   ],
   "source": [
    "# example\n",
    "tweet = tweet2string(tweets[0], ACCEPTED_CHARACTERS)\n",
    "zip(tweet, categorize_words(tweet))\n",
    "#[23:36]"
   ]
  },
  {
   "cell_type": "code",
   "execution_count": null,
   "metadata": {
    "collapsed": true
   },
   "outputs": [],
   "source": []
  }
 ],
 "metadata": {
  "kernelspec": {
   "display_name": "Python [conda root]",
   "language": "python",
   "name": "conda-root-py"
  },
  "language_info": {
   "codemirror_mode": {
    "name": "ipython",
    "version": 2
   },
   "file_extension": ".py",
   "mimetype": "text/x-python",
   "name": "python",
   "nbconvert_exporter": "python",
   "pygments_lexer": "ipython2",
   "version": "2.7.12"
  }
 },
 "nbformat": 4,
 "nbformat_minor": 1
}
