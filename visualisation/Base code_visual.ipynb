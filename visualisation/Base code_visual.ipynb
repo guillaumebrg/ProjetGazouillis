{
 "cells": [
  {
   "cell_type": "markdown",
   "metadata": {},
   "source": [
    "# Import"
   ]
  },
  {
   "cell_type": "markdown",
   "metadata": {},
   "source": [
    "### Basic"
   ]
  },
  {
   "cell_type": "code",
   "execution_count": 1,
   "metadata": {
    "collapsed": true
   },
   "outputs": [],
   "source": [
    "%matplotlib inline\n",
    "import matplotlib.pyplot as plt\n",
    "import numpy as np\n",
    "import os\n",
    "import sys\n",
    "import time\n",
    "import params"
   ]
  },
  {
   "cell_type": "markdown",
   "metadata": {},
   "source": [
    "# Load dataset"
   ]
  },
  {
   "cell_type": "code",
   "execution_count": 2,
   "metadata": {
    "collapsed": false,
    "scrolled": true
   },
   "outputs": [],
   "source": [
    "DATASET = np.load(\"data/dataset.npy\")"
   ]
  },
  {
   "cell_type": "code",
   "execution_count": 3,
   "metadata": {
    "collapsed": false
   },
   "outputs": [
    {
     "name": "stdout",
     "output_type": "stream",
     "text": [
      "Shape : (6126219, 161, 1)\n"
     ]
    }
   ],
   "source": [
    "print \"Shape :\", DATASET.shape"
   ]
  },
  {
   "cell_type": "markdown",
   "metadata": {},
   "source": [
    "# Preprocessing function"
   ]
  },
  {
   "cell_type": "code",
   "execution_count": 4,
   "metadata": {
    "collapsed": true
   },
   "outputs": [],
   "source": [
    "ACCEPTED_CHARS = params.ACCEPTED_CHARS"
   ]
  },
  {
   "cell_type": "code",
   "execution_count": 5,
   "metadata": {
    "collapsed": false
   },
   "outputs": [
    {
     "name": "stdout",
     "output_type": "stream",
     "text": [
      "['\\n', ' ', '!', '\"', '#', '&', \"'\", '(', ')', '*', ',', '-', '.', '/', '0', '1', '2', '3', '4', '5', '6', '7', '8', '9', ':', ';', '?', '@', '_', 'a', 'b', 'c', 'd', 'e', 'f', 'g', 'h', 'i', 'j', 'k', 'l', 'm', 'n', 'o', 'p', 'q', 'r', 's', 't', 'u', 'v', 'w', 'x', 'y', 'z', '\\x80', '\\x92', '\\x98', '\\x9f', '\\xa6', '\\xe2', '\\xf0']\n"
     ]
    }
   ],
   "source": [
    "print ACCEPTED_CHARS"
   ]
  },
  {
   "cell_type": "code",
   "execution_count": 6,
   "metadata": {
    "collapsed": false
   },
   "outputs": [],
   "source": [
    "def batch2onehot(batch, D): # see preprocessing.py\n",
    "    ''' Function used during the training to encode batches.\n",
    "    Input size : (batch_size, tweet_length, 1).\n",
    "    Output size : (batch_size, tweet_length, D)'''\n",
    "    B, T = batch.shape[0:2]\n",
    "    one_hot_batch = np.zeros((B*T, D))\n",
    "    one_hot_batch[range(B*T), batch.flatten()] = 1\n",
    "    one_hot_batch = one_hot_batch.reshape((B,T,D))\n",
    "    return one_hot_batch\n",
    "\n",
    "def batch2tweet(batch, accepted_caracters, special_char=\"\"): # see preprocessing.py\n",
    "    '''Not optimized. But not used during the training : no need to be fast.'''\n",
    "    tweets = []\n",
    "    for t in batch:\n",
    "        tweet = \"\"\n",
    "        for char in t:\n",
    "            try:\n",
    "                tweet += accepted_caracters[char[0]]\n",
    "            except:\n",
    "                tweet += special_char # Special marker indicating the end of the tweet\n",
    "        tweets.append(tweet)\n",
    "    return tweets\n",
    "\n",
    "def onehot2tweet(batch, accepted_caracters, special_char=\"\"): # see preprocessing.py\n",
    "    '''Not optimized. But not used during the training : no need to be fast.'''\n",
    "    tweets = []\n",
    "    for t in batch:\n",
    "        tweet = \"\"\n",
    "        for char in t:\n",
    "            try:\n",
    "                tweet += accepted_caracters[np.where(char==1)[0][0]]\n",
    "            except:\n",
    "                tweet += special_char # Special marker indicating the end of the tweet\n",
    "        tweets.append(tweet)\n",
    "    return tweets"
   ]
  },
  {
   "cell_type": "markdown",
   "metadata": {},
   "source": [
    "### Test preprocessing functions"
   ]
  },
  {
   "cell_type": "code",
   "execution_count": 8,
   "metadata": {
    "collapsed": false
   },
   "outputs": [
    {
     "name": "stdout",
     "output_type": "stream",
     "text": [
      "Char 50 from tweet 24 : [ 0.  0.  0.  0.  0.  0.  0.  0.  0.  0.  0.  0.  0.  0.  0.  0.  0.  0.\n",
      "  0.  0.  0.  0.  0.  0.  0.  0.  0.  0.  0.  0.  0.  0.  0.  0.  0.  0.\n",
      "  0.  0.  0.  0.  0.  0.  0.  0.  0.  0.  0.  0.  0.  1.  0.  0.  0.  0.\n",
      "  0.  0.  0.  0.  0.  0.  0.  0.  0.  0.]\n"
     ]
    }
   ],
   "source": [
    "D = params.D  # dimension of one-hot vectors\n",
    "B = params.B  # batch size for the demo\n",
    "T = params.T  # max length of a tweet\n",
    "batch = DATASET[0:B] \n",
    "# Dataset > One-hot\n",
    "one_hot_batch = batch2onehot(batch, D)\n",
    "\n",
    "# Pick a tweet\n",
    "t = np.random.randint(B)\n",
    "# Pick a char\n",
    "c = np.random.randint(T)\n",
    "print \"Char %d from tweet %d :\"%(c,t), one_hot_batch[t][c]"
   ]
  },
  {
   "cell_type": "markdown",
   "metadata": {},
   "source": [
    "#### If you want to, possible to go back in the \"string\" domain"
   ]
  },
  {
   "cell_type": "code",
   "execution_count": 9,
   "metadata": {
    "collapsed": false
   },
   "outputs": [
    {
     "name": "stdout",
     "output_type": "stream",
     "text": [
      "#nude naked boys with girls video tool prison sex lyrics meaning https://t.co/ujgrdiedap\n",
      "#nude naked boys with girls video tool prison sex lyrics meaning https://t.co/ujgrdiedap\n"
     ]
    }
   ],
   "source": [
    "# Using 'batch2tweet' :\n",
    "t = np.random.randint(B) # Pick a tweet\n",
    "print batch2tweet(batch, ACCEPTED_CHARS)[t]\n",
    "# or 'onehot2tweet' if the tweet has already been converted to onehot :\n",
    "print onehot2tweet(one_hot_batch, ACCEPTED_CHARS)[t]"
   ]
  },
  {
   "cell_type": "markdown",
   "metadata": {},
   "source": [
    "# Model definition"
   ]
  },
  {
   "cell_type": "code",
   "execution_count": 11,
   "metadata": {
    "collapsed": false,
    "scrolled": true
   },
   "outputs": [
    {
     "name": "stderr",
     "output_type": "stream",
     "text": [
      "Using Theano backend.\n"
     ]
    }
   ],
   "source": [
    "from keras.models import Model\n",
    "from keras.layers import Input, LSTM, Masking, Dropout, TimeDistributed, Dense, Activation\n",
    "from keras.optimizers import Adam\n",
    "from keras.callbacks import EarlyStopping"
   ]
  },
  {
   "cell_type": "code",
   "execution_count": 13,
   "metadata": {
    "collapsed": false
   },
   "outputs": [],
   "source": [
    "def get_model(T, D, lr, nhidden, drop_rate): # see models.py\n",
    "    # Input layer\n",
    "    inputs = Input((T, D))\n",
    "    # Masking \"only-0\" input features\n",
    "    masked = Masking(mask_value=0.0)(inputs)\n",
    "    # Hidden layers\n",
    "    for i in range(nhidden):\n",
    "        if i == 0:\n",
    "            hidden  = LSTM(64, return_sequences=True)(masked)  #128\n",
    "        else:\n",
    "            hidden  = LSTM(64, return_sequences=True)(dropout)\n",
    "        dropout = Dropout(drop_rate)(hidden)\n",
    "    # Output layer : linear TimeDistributedDense + softmax\n",
    "    decoder = TimeDistributed(Dense(D))(dropout) # Apply the same dense layer on each timestep\n",
    "    outputs = Activation(\"softmax\") (decoder)\n",
    "\n",
    "    model = Model(input=inputs, output=outputs)\n",
    "\n",
    "    model.compile(optimizer=Adam(lr=lr), loss=\"categorical_crossentropy\")\n",
    "\n",
    "    return model"
   ]
  },
  {
   "cell_type": "markdown",
   "metadata": {},
   "source": [
    "### Model instanciation"
   ]
  },
  {
   "cell_type": "code",
   "execution_count": 24,
   "metadata": {
    "collapsed": false
   },
   "outputs": [],
   "source": [
    "T = 161\n",
    "D = 64\n",
    "LR = params.LR # learning rate\n",
    "model = get_model(T-1, D-1, LR, 1, 0.1) # D-1 because params.D accounts for the padding dimension"
   ]
  },
  {
   "cell_type": "code",
   "execution_count": 25,
   "metadata": {
    "collapsed": false
   },
   "outputs": [
    {
     "name": "stdout",
     "output_type": "stream",
     "text": [
      "____________________________________________________________________________________________________\n",
      "Layer (type)                     Output Shape          Param #     Connected to                     \n",
      "====================================================================================================\n",
      "input_4 (InputLayer)             (None, 160, 63)       0                                            \n",
      "____________________________________________________________________________________________________\n",
      "masking_4 (Masking)              (None, 160, 63)       0           input_4[0][0]                    \n",
      "____________________________________________________________________________________________________\n",
      "lstm_6 (LSTM)                    (None, 160, 64)       32768       masking_4[0][0]                  \n",
      "____________________________________________________________________________________________________\n",
      "dropout_6 (Dropout)              (None, 160, 64)       0           lstm_6[0][0]                     \n",
      "____________________________________________________________________________________________________\n",
      "timedistributed_4 (TimeDistribute(None, 160, 63)       4095        dropout_6[0][0]                  \n",
      "____________________________________________________________________________________________________\n",
      "activation_4 (Activation)        (None, 160, 63)       0           timedistributed_4[0][0]          \n",
      "====================================================================================================\n",
      "Total params: 36863\n",
      "____________________________________________________________________________________________________\n"
     ]
    }
   ],
   "source": [
    "model.summary()"
   ]
  },
  {
   "cell_type": "markdown",
   "metadata": {},
   "source": [
    "# Test"
   ]
  },
  {
   "cell_type": "markdown",
   "metadata": {
    "collapsed": true
   },
   "source": [
    "Needs to be filled - Sampling functions - \"Temperature\""
   ]
  },
  {
   "cell_type": "code",
   "execution_count": 112,
   "metadata": {
    "collapsed": false
   },
   "outputs": [],
   "source": [
    "# load the weights\n",
    "weights = np.load('results/exp_001/weights/best_model.npy')\n",
    "\n",
    "model.layers[2].set_weights(weights[0:12])\n",
    "model.layers[4].set_weights(weights[12:14])"
   ]
  },
  {
   "cell_type": "code",
   "execution_count": 423,
   "metadata": {
    "collapsed": false
   },
   "outputs": [],
   "source": [
    "# One-hot encoding\n",
    "one_hot_batch = batch2onehot(batch, D)\n",
    "# Remove the padding dimension\n",
    "one_hot_batch = one_hot_batch[:,0:160,0:(D-1)]\n",
    "\n",
    "# exemple 21\n",
    "t = 21\n",
    "tweet = batch2tweet(batch, ACCEPTED_CHARS)[t]\n",
    "one_hot_batch = one_hot_batch[t]\n",
    "one_hot_batch = one_hot_batch[None,:,:]\n",
    "\n",
    "out = model.predict(one_hot_batch)"
   ]
  },
  {
   "cell_type": "code",
   "execution_count": 425,
   "metadata": {
    "collapsed": false
   },
   "outputs": [],
   "source": [
    "predictions = []\n",
    "confidences = []\n",
    "nb_predictions = 5\n",
    "\n",
    "for i in range(nb_predictions):\n",
    "    onehot = np.asarray([np.eye(64)[np.argsort(o)[-(i + 1)]] for o in out[0]])\n",
    "    predictions.append(onehot2tweet(onehot[None,:,:], ACCEPTED_CHARS)[0])\n",
    "    confidences.append([o[np.argsort(o)[-(i + 1)]] for o in out[0]])"
   ]
  },
  {
   "cell_type": "code",
   "execution_count": 427,
   "metadata": {
    "collapsed": false
   },
   "outputs": [],
   "source": [
    "from IPython.display import HTML\n",
    "\n",
    "output = tweet + '<br>'\n",
    "for i in range(nb_predictions):\n",
    "    output = output + '_'\n",
    "    for c in range(len(tweet)):\n",
    "        output = output + '<span style=\\\"background-color:hsl(240,100%,' + str(100 - confidences[i][c] * 50) + '%);\\\">' + predictions[i][c].replace('\\n',' ') + '</span>'\n",
    "    output = output + '<br>'\n",
    "    \n",
    "output = '<p style=\"font-family:monospace; font-size:16px\">' + output + '</p>'"
   ]
  },
  {
   "cell_type": "code",
   "execution_count": 428,
   "metadata": {
    "collapsed": false
   },
   "outputs": [
    {
     "data": {
      "text/html": [
       "<p style=\"font-family:monospace; font-size:16px\">rt @femalenomads: i'm in love with the sky https://t.co/shyuplvrwr<br>_<span style=\"background-color:hsl(240,100%,50.6772220135%);\">t</span><span style=\"background-color:hsl(240,100%,50.1463890076%);\"> </span><span style=\"background-color:hsl(240,100%,50.1883774996%);\">@</span><span style=\"background-color:hsl(240,100%,95.2857628465%);\">s</span><span style=\"background-color:hsl(240,100%,90.571077168%);\">i</span><span style=\"background-color:hsl(240,100%,90.863764286%);\">m</span><span style=\"background-color:hsl(240,100%,85.0271984935%);\">i</span><span style=\"background-color:hsl(240,100%,71.2020933628%);\">l</span><span style=\"background-color:hsl(240,100%,66.8506234884%);\">e</span><span style=\"background-color:hsl(240,100%,89.7514149547%);\">s</span><span style=\"background-color:hsl(240,100%,89.8547932506%);\">e</span><span style=\"background-color:hsl(240,100%,91.0358972847%);\">r</span><span style=\"background-color:hsl(240,100%,89.2904788256%);\">i</span><span style=\"background-color:hsl(240,100%,89.5014822483%);\">n</span><span style=\"background-color:hsl(240,100%,86.6972506046%);\">e</span><span style=\"background-color:hsl(240,100%,61.6606622934%);\">:</span><span style=\"background-color:hsl(240,100%,50.24766922%);\"> </span><span style=\"background-color:hsl(240,100%,93.9653128386%);\">i</span><span style=\"background-color:hsl(240,100%,77.5687381625%);\"> </span><span style=\"background-color:hsl(240,100%,63.0224853754%);\">m</span><span style=\"background-color:hsl(240,100%,50.8090704679%);\"> </span><span style=\"background-color:hsl(240,100%,94.1224299371%);\">n</span><span style=\"background-color:hsl(240,100%,71.6255128384%);\">n</span><span style=\"background-color:hsl(240,100%,78.7036940455%);\"> </span><span style=\"background-color:hsl(240,100%,91.1789409816%);\">t</span><span style=\"background-color:hsl(240,100%,79.9245327711%);\">o</span><span style=\"background-color:hsl(240,100%,87.0666906238%);\">v</span><span style=\"background-color:hsl(240,100%,52.4916946888%);\">e</span><span style=\"background-color:hsl(240,100%,65.3597444296%);\"> </span><span style=\"background-color:hsl(240,100%,90.9862704575%);\">t</span><span style=\"background-color:hsl(240,100%,84.6871316433%);\">i</span><span style=\"background-color:hsl(240,100%,64.4260704517%);\">t</span><span style=\"background-color:hsl(240,100%,50.6611168385%);\">h</span><span style=\"background-color:hsl(240,100%,54.6059250832%);\"> </span><span style=\"background-color:hsl(240,100%,92.027515173%);\">t</span><span style=\"background-color:hsl(240,100%,59.6666514874%);\">h</span><span style=\"background-color:hsl(240,100%,58.1811338663%);\">e</span><span style=\"background-color:hsl(240,100%,55.3130984306%);\"> </span><span style=\"background-color:hsl(240,100%,95.079004392%);\">s</span><span style=\"background-color:hsl(240,100%,91.7594350874%);\">t</span><span style=\"background-color:hsl(240,100%,76.4023780823%);\">i</span><span style=\"background-color:hsl(240,100%,77.8578981757%);\"> </span><span style=\"background-color:hsl(240,100%,94.1130135208%);\">h</span><span style=\"background-color:hsl(240,100%,66.6457861662%);\">t</span><span style=\"background-color:hsl(240,100%,50.0617802143%);\">t</span><span style=\"background-color:hsl(240,100%,50.0625729561%);\">p</span><span style=\"background-color:hsl(240,100%,50.0904768705%);\">s</span><span style=\"background-color:hsl(240,100%,50.0352561474%);\">:</span><span style=\"background-color:hsl(240,100%,50.020429492%);\">/</span><span style=\"background-color:hsl(240,100%,50.0212877989%);\">/</span><span style=\"background-color:hsl(240,100%,50.0079035759%);\">t</span><span style=\"background-color:hsl(240,100%,50.0587910414%);\">.</span><span style=\"background-color:hsl(240,100%,50.0242769718%);\">c</span><span style=\"background-color:hsl(240,100%,50.0235319138%);\">o</span><span style=\"background-color:hsl(240,100%,50.0192940235%);\">/</span><span style=\"background-color:hsl(240,100%,98.2654968277%);\">p</span><span style=\"background-color:hsl(240,100%,98.2539815828%);\">h</span><span style=\"background-color:hsl(240,100%,98.2681473717%);\">d</span><span style=\"background-color:hsl(240,100%,98.2464686036%);\">d</span><span style=\"background-color:hsl(240,100%,98.1443345547%);\">k</span><span style=\"background-color:hsl(240,100%,98.198303394%);\">d</span><span style=\"background-color:hsl(240,100%,97.7550048381%);\">e</span><span style=\"background-color:hsl(240,100%,98.0490669608%);\">d</span><span style=\"background-color:hsl(240,100%,98.186041601%);\">d</span><span style=\"background-color:hsl(240,100%,97.6587310433%);\">o</span><span style=\"background-color:hsl(240,100%,55.2457809448%);\"> </span><br>_<span style=\"background-color:hsl(240,100%,99.6663349448%);\">e</span><span style=\"background-color:hsl(240,100%,99.9599726434%);\">:</span><span style=\"background-color:hsl(240,100%,99.9784936706%);\">f</span><span style=\"background-color:hsl(240,100%,96.3358361274%);\">t</span><span style=\"background-color:hsl(240,100%,90.6688816845%);\">a</span><span style=\"background-color:hsl(240,100%,92.1012356877%);\">e</span><span style=\"background-color:hsl(240,100%,89.3294371665%);\">a</span><span style=\"background-color:hsl(240,100%,94.7888802737%);\">r</span><span style=\"background-color:hsl(240,100%,93.1260079145%);\">i</span><span style=\"background-color:hsl(240,100%,93.1501492858%);\">t</span><span style=\"background-color:hsl(240,100%,90.0519728661%);\">a</span><span style=\"background-color:hsl(240,100%,92.0055881143%);\">n</span><span style=\"background-color:hsl(240,100%,89.7925846279%);\">e</span><span style=\"background-color:hsl(240,100%,89.8667432368%);\">l</span><span style=\"background-color:hsl(240,100%,87.3422622681%);\">i</span><span style=\"background-color:hsl(240,100%,98.5062792897%);\">t</span><span style=\"background-color:hsl(240,100%,99.9187303067%);\"> </span><span style=\"background-color:hsl(240,100%,95.1455146074%);\">t</span><span style=\"background-color:hsl(240,100%,93.7892563641%);\">'</span><span style=\"background-color:hsl(240,100%,94.4409042597%);\">v</span><span style=\"background-color:hsl(240,100%,99.8081061407%);\">.</span><span style=\"background-color:hsl(240,100%,94.5428464562%);\">a</span><span style=\"background-color:hsl(240,100%,93.9390361309%);\">s</span><span style=\"background-color:hsl(240,100%,89.1090318561%);\">s</span><span style=\"background-color:hsl(240,100%,95.0796131045%);\">a</span><span style=\"background-color:hsl(240,100%,87.3760581017%);\">i</span><span style=\"background-color:hsl(240,100%,92.0135900378%);\">n</span><span style=\"background-color:hsl(240,100%,97.8136863559%);\">i</span><span style=\"background-color:hsl(240,100%,96.5858735144%);\">r</span><span style=\"background-color:hsl(240,100%,95.6787224859%);\">a</span><span style=\"background-color:hsl(240,100%,84.8633512855%);\">h</span><span style=\"background-color:hsl(240,100%,91.412936151%);\">l</span><span style=\"background-color:hsl(240,100%,99.7544615529%);\"> </span><span style=\"background-color:hsl(240,100%,98.4252288938%);\">o</span><span style=\"background-color:hsl(240,100%,94.6668419987%);\">a</span><span style=\"background-color:hsl(240,100%,96.3346239179%);\">o</span><span style=\"background-color:hsl(240,100%,95.175986737%);\">i</span><span style=\"background-color:hsl(240,100%,98.4605932608%);\">m</span><span style=\"background-color:hsl(240,100%,96.2203837931%);\">m</span><span style=\"background-color:hsl(240,100%,92.241448164%);\">e</span><span style=\"background-color:hsl(240,100%,92.7955470979%);\">y</span><span style=\"background-color:hsl(240,100%,92.2509655356%);\">l</span><span style=\"background-color:hsl(240,100%,96.3237978518%);\">t</span><span style=\"background-color:hsl(240,100%,94.726113975%);\">a</span><span style=\"background-color:hsl(240,100%,99.9739337829%);\">'</span><span style=\"background-color:hsl(240,100%,99.9663234077%);\">s</span><span style=\"background-color:hsl(240,100%,99.9315057998%);\">:</span><span style=\"background-color:hsl(240,100%,99.9903529941%);\">.</span><span style=\"background-color:hsl(240,100%,99.994958788%);\">s</span><span style=\"background-color:hsl(240,100%,99.9878732924%);\">t</span><span style=\"background-color:hsl(240,100%,99.998227345%);\">/</span><span style=\"background-color:hsl(240,100%,99.9802265258%);\"> </span><span style=\"background-color:hsl(240,100%,99.9950723482%);\">l</span><span style=\"background-color:hsl(240,100%,99.9907179284%);\">&#65533;</span><span style=\"background-color:hsl(240,100%,99.9913160107%);\">&#65533;</span><span style=\"background-color:hsl(240,100%,98.2922855765%);\">u</span><span style=\"background-color:hsl(240,100%,98.2728192583%);\">d</span><span style=\"background-color:hsl(240,100%,98.2981320471%);\">h</span><span style=\"background-color:hsl(240,100%,98.3033556491%);\">h</span><span style=\"background-color:hsl(240,100%,98.2318870723%);\">u</span><span style=\"background-color:hsl(240,100%,98.3037032187%);\">g</span><span style=\"background-color:hsl(240,100%,97.777044028%);\">d</span><span style=\"background-color:hsl(240,100%,98.2548490167%);\">g</span><span style=\"background-color:hsl(240,100%,98.2633257285%);\">t</span><span style=\"background-color:hsl(240,100%,97.9371022433%);\">a</span><span style=\"background-color:hsl(240,100%,95.5877337605%);\"> </span><br>_<span style=\"background-color:hsl(240,100%,99.9019270297%);\">a</span><span style=\"background-color:hsl(240,100%,99.9744019704%);\">,</span><span style=\"background-color:hsl(240,100%,99.978913572%);\"> </span><span style=\"background-color:hsl(240,100%,96.6149266809%);\">m</span><span style=\"background-color:hsl(240,100%,92.6204308867%);\">r</span><span style=\"background-color:hsl(240,100%,94.0522994846%);\">a</span><span style=\"background-color:hsl(240,100%,92.709249258%);\">e</span><span style=\"background-color:hsl(240,100%,95.7836598158%);\">y</span><span style=\"background-color:hsl(240,100%,97.3361130804%);\">l</span><span style=\"background-color:hsl(240,100%,97.2971221432%);\">l</span><span style=\"background-color:hsl(240,100%,95.0963564217%);\">g</span><span style=\"background-color:hsl(240,100%,96.0194863379%);\">u</span><span style=\"background-color:hsl(240,100%,94.3119421601%);\">a</span><span style=\"background-color:hsl(240,100%,94.3875107914%);\">r</span><span style=\"background-color:hsl(240,100%,92.1557307243%);\">:</span><span style=\"background-color:hsl(240,100%,99.0262425505%);\">e</span><span style=\"background-color:hsl(240,100%,99.9532224872%);\">:</span><span style=\"background-color:hsl(240,100%,96.2751511484%);\">w</span><span style=\"background-color:hsl(240,100%,94.1012118012%);\">t</span><span style=\"background-color:hsl(240,100%,95.6441704184%);\">l</span><span style=\"background-color:hsl(240,100%,99.8436277965%);\">,</span><span style=\"background-color:hsl(240,100%,94.8910284787%);\">s</span><span style=\"background-color:hsl(240,100%,94.2140173167%);\">t</span><span style=\"background-color:hsl(240,100%,96.3315024972%);\">t</span><span style=\"background-color:hsl(240,100%,95.3233230859%);\">m</span><span style=\"background-color:hsl(240,100%,92.5913155079%);\">a</span><span style=\"background-color:hsl(240,100%,92.4614183605%);\">o</span><span style=\"background-color:hsl(240,100%,99.8413936119%);\">a</span><span style=\"background-color:hsl(240,100%,97.0660215244%);\">s</span><span style=\"background-color:hsl(240,100%,95.8163037896%);\">h</span><span style=\"background-color:hsl(240,100%,91.4420418441%);\">e</span><span style=\"background-color:hsl(240,100%,96.4117251337%);\">n</span><span style=\"background-color:hsl(240,100%,99.8874806566%);\">i</span><span style=\"background-color:hsl(240,100%,99.158859998%);\">i</span><span style=\"background-color:hsl(240,100%,95.8465937525%);\">m</span><span style=\"background-color:hsl(240,100%,98.0165096%);\">r</span><span style=\"background-color:hsl(240,100%,97.3439382389%);\">a</span><span style=\"background-color:hsl(240,100%,98.8061387092%);\">i</span><span style=\"background-color:hsl(240,100%,96.646977216%);\">p</span><span style=\"background-color:hsl(240,100%,93.8044317067%);\">a</span><span style=\"background-color:hsl(240,100%,93.5738682747%);\">e</span><span style=\"background-color:hsl(240,100%,96.8429040164%);\">n</span><span style=\"background-color:hsl(240,100%,96.4316636324%);\">s</span><span style=\"background-color:hsl(240,100%,95.9621515125%);\">e</span><span style=\"background-color:hsl(240,100%,99.9786371889%);\"> </span><span style=\"background-color:hsl(240,100%,99.9911199753%);\">w</span><span style=\"background-color:hsl(240,100%,99.994408416%);\">e</span><span style=\"background-color:hsl(240,100%,99.992121807%);\">s</span><span style=\"background-color:hsl(240,100%,99.9964975588%);\">&#65533;</span><span style=\"background-color:hsl(240,100%,99.9977744006%);\"> </span><span style=\"background-color:hsl(240,100%,99.9987427296%);\">o</span><span style=\"background-color:hsl(240,100%,99.9874798872%);\">&#65533;</span><span style=\"background-color:hsl(240,100%,99.9958017124%);\">f</span><span style=\"background-color:hsl(240,100%,99.9914372856%);\">s</span><span style=\"background-color:hsl(240,100%,99.9957578533%);\">h</span><span style=\"background-color:hsl(240,100%,98.3459688723%);\">k</span><span style=\"background-color:hsl(240,100%,98.3370052651%);\">u</span><span style=\"background-color:hsl(240,100%,98.2984371483%);\">w</span><span style=\"background-color:hsl(240,100%,98.3160864562%);\">g</span><span style=\"background-color:hsl(240,100%,98.2606425881%);\">h</span><span style=\"background-color:hsl(240,100%,98.3101507649%);\">w</span><span style=\"background-color:hsl(240,100%,97.8851577267%);\">v</span><span style=\"background-color:hsl(240,100%,98.2562476769%);\">y</span><span style=\"background-color:hsl(240,100%,98.2845254242%);\">o</span><span style=\"background-color:hsl(240,100%,98.0046225712%);\">y</span><span style=\"background-color:hsl(240,100%,99.8305502464%);\"> </span><br>_<span style=\"background-color:hsl(240,100%,99.9646855285%);\">h</span><span style=\"background-color:hsl(240,100%,99.9784714455%);\">'</span><span style=\"background-color:hsl(240,100%,99.984632984%);\">c</span><span style=\"background-color:hsl(240,100%,96.9208331779%);\">b</span><span style=\"background-color:hsl(240,100%,94.285133481%);\">e</span><span style=\"background-color:hsl(240,100%,95.9700368345%);\">c</span><span style=\"background-color:hsl(240,100%,97.8097774088%);\">o</span><span style=\"background-color:hsl(240,100%,97.1050577238%);\">n</span><span style=\"background-color:hsl(240,100%,97.9092452675%);\">a</span><span style=\"background-color:hsl(240,100%,97.3499653861%);\">b</span><span style=\"background-color:hsl(240,100%,95.5448783934%);\">i</span><span style=\"background-color:hsl(240,100%,96.4777935296%);\">l</span><span style=\"background-color:hsl(240,100%,95.5337312073%);\">o</span><span style=\"background-color:hsl(240,100%,95.0834613293%);\">t</span><span style=\"background-color:hsl(240,100%,96.9832465053%);\">o</span><span style=\"background-color:hsl(240,100%,99.0818998776%);\">c</span><span style=\"background-color:hsl(240,100%,99.9735259509%);\">'</span><span style=\"background-color:hsl(240,100%,96.6941665858%);\">s</span><span style=\"background-color:hsl(240,100%,95.4400781542%);\">f</span><span style=\"background-color:hsl(240,100%,97.8495422751%);\">d</span><span style=\"background-color:hsl(240,100%,99.8942493112%);\">'</span><span style=\"background-color:hsl(240,100%,96.3185943663%);\">t</span><span style=\"background-color:hsl(240,100%,96.4926682413%);\"> </span><span style=\"background-color:hsl(240,100%,97.5497234613%);\">o</span><span style=\"background-color:hsl(240,100%,96.7189237475%);\">s</span><span style=\"background-color:hsl(240,100%,93.290489167%);\">e</span><span style=\"background-color:hsl(240,100%,93.916002661%);\">s</span><span style=\"background-color:hsl(240,100%,99.9159178813%);\"> </span><span style=\"background-color:hsl(240,100%,97.3347529769%);\">d</span><span style=\"background-color:hsl(240,100%,96.2216760963%);\">o</span><span style=\"background-color:hsl(240,100%,94.6532472968%);\">a</span><span style=\"background-color:hsl(240,100%,98.8226070069%);\">s</span><span style=\"background-color:hsl(240,100%,99.9078805267%);\">e</span><span style=\"background-color:hsl(240,100%,99.4954321068%);\">.</span><span style=\"background-color:hsl(240,100%,96.8524750322%);\">s</span><span style=\"background-color:hsl(240,100%,98.7386221066%);\">i</span><span style=\"background-color:hsl(240,100%,99.5912520215%);\">o</span><span style=\"background-color:hsl(240,100%,98.8628496416%);\">s</span><span style=\"background-color:hsl(240,100%,97.0277793705%);\">b</span><span style=\"background-color:hsl(240,100%,95.2558547258%);\">i</span><span style=\"background-color:hsl(240,100%,95.696451515%);\">o</span><span style=\"background-color:hsl(240,100%,97.68446628%);\">c</span><span style=\"background-color:hsl(240,100%,96.8274496496%);\">i</span><span style=\"background-color:hsl(240,100%,96.5748675168%);\">o</span><span style=\"background-color:hsl(240,100%,99.9930362043%);\">s</span><span style=\"background-color:hsl(240,100%,99.9965437419%);\">&#65533;</span><span style=\"background-color:hsl(240,100%,99.9946618162%);\">p</span><span style=\"background-color:hsl(240,100%,99.9938358655%);\">/</span><span style=\"background-color:hsl(240,100%,99.9965892999%);\">:</span><span style=\"background-color:hsl(240,100%,99.9981470364%);\">&#65533;</span><span style=\"background-color:hsl(240,100%,99.9987966765%);\">1</span><span style=\"background-color:hsl(240,100%,99.9917966474%);\">:</span><span style=\"background-color:hsl(240,100%,99.9968467422%);\">j</span><span style=\"background-color:hsl(240,100%,99.9977829613%);\">t</span><span style=\"background-color:hsl(240,100%,99.9982714575%);\">u</span><span style=\"background-color:hsl(240,100%,98.3480934054%);\">w</span><span style=\"background-color:hsl(240,100%,98.3374515548%);\">y</span><span style=\"background-color:hsl(240,100%,98.3089696616%);\">g</span><span style=\"background-color:hsl(240,100%,98.3326699585%);\">j</span><span style=\"background-color:hsl(240,100%,98.2891574502%);\">f</span><span style=\"background-color:hsl(240,100%,98.323282972%);\">y</span><span style=\"background-color:hsl(240,100%,97.9687958956%);\">g</span><span style=\"background-color:hsl(240,100%,98.256554082%);\">v</span><span style=\"background-color:hsl(240,100%,98.332580179%);\">c</span><span style=\"background-color:hsl(240,100%,98.1909459457%);\">t</span><span style=\"background-color:hsl(240,100%,99.9607341073%);\">t</span><br>_<span style=\"background-color:hsl(240,100%,99.9650058307%);\">u</span><span style=\"background-color:hsl(240,100%,99.9810558307%);\"> </span><span style=\"background-color:hsl(240,100%,99.9885977901%);\">d</span><span style=\"background-color:hsl(240,100%,96.9306536019%);\">a</span><span style=\"background-color:hsl(240,100%,94.3915281445%);\">u</span><span style=\"background-color:hsl(240,100%,96.5461231768%);\">r</span><span style=\"background-color:hsl(240,100%,98.197391443%);\">c</span><span style=\"background-color:hsl(240,100%,98.1929849833%);\">s</span><span style=\"background-color:hsl(240,100%,98.8711189479%);\">o</span><span style=\"background-color:hsl(240,100%,97.5284244865%);\">r</span><span style=\"background-color:hsl(240,100%,96.538490057%);\">t</span><span style=\"background-color:hsl(240,100%,96.6001097113%);\">t</span><span style=\"background-color:hsl(240,100%,95.9441937506%);\">:</span><span style=\"background-color:hsl(240,100%,96.7281222343%);\">:</span><span style=\"background-color:hsl(240,100%,97.3593793809%);\">a</span><span style=\"background-color:hsl(240,100%,99.0974890068%);\">o</span><span style=\"background-color:hsl(240,100%,99.9899561546%);\">3</span><span style=\"background-color:hsl(240,100%,96.7204894871%);\">m</span><span style=\"background-color:hsl(240,100%,96.6462876648%);\">n</span><span style=\"background-color:hsl(240,100%,99.5933670085%);\">r</span><span style=\"background-color:hsl(240,100%,99.9365912052%);\"> </span><span style=\"background-color:hsl(240,100%,97.2012901679%);\">d</span><span style=\"background-color:hsl(240,100%,98.8842109218%);\">m</span><span style=\"background-color:hsl(240,100%,97.8938350454%);\">d</span><span style=\"background-color:hsl(240,100%,96.9927117229%);\">h</span><span style=\"background-color:hsl(240,100%,98.3728563413%);\">u</span><span style=\"background-color:hsl(240,100%,95.8758346736%);\">l</span><span style=\"background-color:hsl(240,100%,99.9865404126%);\">y</span><span style=\"background-color:hsl(240,100%,98.1239639223%);\">.</span><span style=\"background-color:hsl(240,100%,96.4522212744%);\">i</span><span style=\"background-color:hsl(240,100%,95.6968337297%);\">o</span><span style=\"background-color:hsl(240,100%,99.7806162341%);\">d</span><span style=\"background-color:hsl(240,100%,99.9193601077%);\">n</span><span style=\"background-color:hsl(240,100%,99.7260165866%);\">,</span><span style=\"background-color:hsl(240,100%,97.2416648641%);\">y</span><span style=\"background-color:hsl(240,100%,99.0914259106%);\">e</span><span style=\"background-color:hsl(240,100%,99.7952693142%);\">r</span><span style=\"background-color:hsl(240,100%,99.6032690629%);\">r</span><span style=\"background-color:hsl(240,100%,97.1947081387%);\">f</span><span style=\"background-color:hsl(240,100%,96.0535351187%);\">o</span><span style=\"background-color:hsl(240,100%,96.7292625457%);\">a</span><span style=\"background-color:hsl(240,100%,97.7147188038%);\">p</span><span style=\"background-color:hsl(240,100%,97.0295675099%);\">a</span><span style=\"background-color:hsl(240,100%,97.0340231434%);\">i</span><span style=\"background-color:hsl(240,100%,99.9979650029%);\">.</span><span style=\"background-color:hsl(240,100%,99.9969375251%);\">t</span><span style=\"background-color:hsl(240,100%,99.9977106701%);\">.</span><span style=\"background-color:hsl(240,100%,99.9980130744%);\">t</span><span style=\"background-color:hsl(240,100%,99.9973344258%);\">)</span><span style=\"background-color:hsl(240,100%,99.9988809816%);\">*</span><span style=\"background-color:hsl(240,100%,99.9989523766%);\">u</span><span style=\"background-color:hsl(240,100%,99.9921820425%);\">t</span><span style=\"background-color:hsl(240,100%,99.9976121728%);\">&#65533;</span><span style=\"background-color:hsl(240,100%,99.9991480981%);\">2</span><span style=\"background-color:hsl(240,100%,99.9989163667%);\">v</span><span style=\"background-color:hsl(240,100%,98.3510576189%);\">y</span><span style=\"background-color:hsl(240,100%,98.3389204368%);\">w</span><span style=\"background-color:hsl(240,100%,98.3303911984%);\">l</span><span style=\"background-color:hsl(240,100%,98.3329497278%);\">w</span><span style=\"background-color:hsl(240,100%,98.2947725803%);\">w</span><span style=\"background-color:hsl(240,100%,98.3236603439%);\">h</span><span style=\"background-color:hsl(240,100%,98.1309300289%);\">r</span><span style=\"background-color:hsl(240,100%,98.2739271596%);\">e</span><span style=\"background-color:hsl(240,100%,98.3409216627%);\">w</span><span style=\"background-color:hsl(240,100%,98.1922671199%);\">n</span><span style=\"background-color:hsl(240,100%,99.9633692438%);\">e</span><br></p>"
      ],
      "text/plain": [
       "<IPython.core.display.HTML object>"
      ]
     },
     "execution_count": 428,
     "metadata": {},
     "output_type": "execute_result"
    }
   ],
   "source": [
    "output = unicode(output, 'utf-8', errors='replace')\n",
    "output = output.encode('ascii', 'xmlcharrefreplace')\n",
    "\n",
    "HTML(output)"
   ]
  },
  {
   "cell_type": "code",
   "execution_count": null,
   "metadata": {
    "collapsed": true
   },
   "outputs": [],
   "source": []
  }
 ],
 "metadata": {
  "anaconda-cloud": {},
  "kernelspec": {
   "display_name": "Python [default]",
   "language": "python",
   "name": "python2"
  },
  "language_info": {
   "codemirror_mode": {
    "name": "ipython",
    "version": 2
   },
   "file_extension": ".py",
   "mimetype": "text/x-python",
   "name": "python",
   "nbconvert_exporter": "python",
   "pygments_lexer": "ipython2",
   "version": "2.7.12"
  }
 },
 "nbformat": 4,
 "nbformat_minor": 0
}
