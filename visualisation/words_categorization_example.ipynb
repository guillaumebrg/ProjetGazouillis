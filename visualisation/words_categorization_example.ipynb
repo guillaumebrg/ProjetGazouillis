{
 "cells": [
  {
   "cell_type": "code",
   "execution_count": 1,
   "metadata": {
    "collapsed": false
   },
   "outputs": [],
   "source": [
    "import numpy as np\n",
    "import nltk\n",
    "from nltk.tokenize.punkt import PunktSentenceTokenizer\n",
    "#nltk.download('all')"
   ]
  },
  {
   "cell_type": "markdown",
   "metadata": {},
   "source": [
    "Make sure to use nltk.download('all') the first you use the code"
   ]
  },
  {
   "cell_type": "code",
   "execution_count": 2,
   "metadata": {
    "collapsed": true
   },
   "outputs": [],
   "source": [
    "ACCEPTED_CHARACTERS = ['a', 'b', 'c', 'd', 'e', 'f', 'g', 'h', 'i', 'j', 'k', \n",
    "                       'l', 'm', 'n', 'o', 'p', 'q', 'r', 's', 't', 'u', 'v', 'w', 'x', 'y', 'z'] + \\\n",
    "['%d'%i for i in range(10)] + \\\n",
    "['/', '@', '#', '&', '|', '|', '|', '|', '|', '|', '|'] + \\\n",
    "['\\n', ' ', '!', '\"', \"'\", '(', ')', '*', ',', '-', '.', ':', ';', '?', '_','|']\n",
    "\n",
    "ACCEPTED_CHARACTERS.sort()\n",
    "ACCEPTED_CHARACTERS.append('')\n",
    "accepted_characters = ACCEPTED_CHARACTERS"
   ]
  },
  {
   "cell_type": "code",
   "execution_count": 3,
   "metadata": {
    "collapsed": true
   },
   "outputs": [],
   "source": [
    "def tweet2string(tweet, accepted_characters = ACCEPTED_CHARACTERS):\n",
    "    output = ''\n",
    "    for t in tweet:\n",
    "        output = output + accepted_characters[t[0]]\n",
    "    return output"
   ]
  },
  {
   "cell_type": "code",
   "execution_count": 4,
   "metadata": {
    "collapsed": false
   },
   "outputs": [],
   "source": [
    "tweets = np.load(\"data/dataset.npy\")"
   ]
  },
  {
   "cell_type": "markdown",
   "metadata": {},
   "source": [
    "# Categorize words in tweets"
   ]
  },
  {
   "cell_type": "code",
   "execution_count": 5,
   "metadata": {
    "collapsed": false
   },
   "outputs": [],
   "source": [
    "# adapted from http://stackoverflow.com/questions/14776317/finding-exact-position-of-tokenized-sentences\n",
    "from nltk import tokenize\n",
    "from nltk import TweetTokenizer\n",
    "\n",
    "def token_position(tweet, tags):\n",
    "    tknzr = TweetTokenizer()\n",
    "    \n",
    "    output = []\n",
    "    offset, length, offset2,length = 0, 0, 0, 0\n",
    "    for i,sentence in enumerate(tknzr.tokenize(tweet)):\n",
    "        # fix ignored characters\n",
    "        offset = tweet.find(sentence, offset)\n",
    "        length = len(sentence)\n",
    "        \n",
    "        output.append([offset, length, tags[i]])\n",
    "        offset += length\n",
    "    return output"
   ]
  },
  {
   "cell_type": "code",
   "execution_count": 6,
   "metadata": {
    "collapsed": false
   },
   "outputs": [],
   "source": [
    "def categorize_words(tweet):\n",
    "    tknzr = TweetTokenizer()\n",
    "\n",
    "    token = tknzr.tokenize(tweet)\n",
    "    tag = nltk.pos_tag(token)\n",
    "    tweet_tokenized = token_position(tweet, tag)\n",
    "    tweet_tokenized\n",
    "\n",
    "    word_position = 0\n",
    "    tags = []\n",
    "\n",
    "    for i, c in enumerate(tweet):\n",
    "\n",
    "        if i > (tweet_tokenized[word_position][0] + tweet_tokenized[word_position][1]):\n",
    "            word_position = word_position + 1\n",
    "\n",
    "        if i != (tweet_tokenized[word_position][0] + tweet_tokenized[word_position][1]) and i>=tweet_tokenized[word_position][0]:\n",
    "            tags.append(tweet_tokenized[word_position][2][1])\n",
    "        else:\n",
    "            tags.append('.')\n",
    "    return tags"
   ]
  },
  {
   "cell_type": "code",
   "execution_count": 162,
   "metadata": {
    "collapsed": false
   },
   "outputs": [
    {
     "data": {
      "text/plain": [
       "[('l', 'NNS'),\n",
       " ('o', 'NNS'),\n",
       " ('o', 'NNS'),\n",
       " ('k', 'NNS'),\n",
       " ('s', 'NNS'),\n",
       " (' ', '.'),\n",
       " ('l', 'IN'),\n",
       " ('i', 'IN'),\n",
       " ('k', 'IN'),\n",
       " ('e', 'IN'),\n",
       " (' ', '.'),\n",
       " ('t', 'DT'),\n",
       " ('h', 'DT'),\n",
       " ('e', 'DT'),\n",
       " (' ', '.'),\n",
       " ('s', 'NN'),\n",
       " ('c', 'NN'),\n",
       " ('o', 'NN'),\n",
       " ('t', 'NN'),\n",
       " ('l', 'NN'),\n",
       " ('a', 'NN'),\n",
       " ('n', 'NN'),\n",
       " ('d', 'NN'),\n",
       " (' ', '.'),\n",
       " ('k', 'NN'),\n",
       " ('i', 'NN'),\n",
       " ('t', 'NN'),\n",
       " (' ', '.'),\n",
       " ('m', 'NN'),\n",
       " ('a', 'NN'),\n",
       " ('n', 'NN'),\n",
       " (' ', '.'),\n",
       " ('d', 'VBD'),\n",
       " ('r', 'VBD'),\n",
       " ('o', 'VBD'),\n",
       " ('p', 'VBD'),\n",
       " ('p', 'VBD'),\n",
       " ('e', 'VBD'),\n",
       " ('d', 'VBD'),\n",
       " (' ', '.'),\n",
       " ('a', 'DT'),\n",
       " (' ', '.'),\n",
       " ('b', 'NN'),\n",
       " ('o', 'NN'),\n",
       " ('l', 'NN'),\n",
       " ('l', 'NN'),\n",
       " ('o', 'NN'),\n",
       " ('c', 'NN'),\n",
       " ('k', 'NN'),\n",
       " (' ', '.'),\n",
       " ('w', 'WRB'),\n",
       " ('h', 'WRB'),\n",
       " ('e', 'WRB'),\n",
       " ('n', 'WRB'),\n",
       " (' ', '.'),\n",
       " ('h', 'PRP'),\n",
       " ('e', 'PRP'),\n",
       " (' ', '.'),\n",
       " ('w', 'VBD'),\n",
       " ('a', 'VBD'),\n",
       " ('s', 'VBD'),\n",
       " ('h', 'VBD'),\n",
       " ('e', 'VBD'),\n",
       " ('d', 'VBD'),\n",
       " (' ', '.'),\n",
       " ('t', 'DT'),\n",
       " ('h', 'DT'),\n",
       " ('e', 'DT'),\n",
       " (' ', '.'),\n",
       " ('k', 'NN'),\n",
       " ('i', 'NN'),\n",
       " ('t', 'NN'),\n",
       " (' ', '.'),\n",
       " ('a', 'CC'),\n",
       " ('n', 'CC'),\n",
       " ('d', 'CC'),\n",
       " (' ', '.'),\n",
       " ('l', 'VBD'),\n",
       " ('e', 'VBD'),\n",
       " ('f', 'VBD'),\n",
       " ('t', 'VBD'),\n",
       " (' ', '.'),\n",
       " ('a', 'DT'),\n",
       " (' ', '.'),\n",
       " ('p', 'NN'),\n",
       " ('i', 'NN'),\n",
       " ('n', 'NN'),\n",
       " ('k', 'NN'),\n",
       " (' ', '.'),\n",
       " ('s', 'NN'),\n",
       " ('o', 'NN'),\n",
       " ('c', 'NN'),\n",
       " ('k', 'NN'),\n",
       " (' ', '.'),\n",
       " ('i', 'IN'),\n",
       " ('n', 'IN'),\n",
       " (' ', '.'),\n",
       " ('!', '.'),\n",
       " ('#', '.'),\n",
       " ('e', 'NN'),\n",
       " ('n', 'NN'),\n",
       " ('g', 'NN'),\n",
       " ('l', 'NN'),\n",
       " ('a', 'NN'),\n",
       " ('n', 'NN'),\n",
       " ('d', 'NN'),\n",
       " ('v', 'NN'),\n",
       " ('s', 'NN'),\n",
       " ('c', 'NN'),\n",
       " ('o', 'NN'),\n",
       " ('t', 'NN'),\n",
       " ('l', 'NN'),\n",
       " ('a', 'NN'),\n",
       " ('n', 'NN'),\n",
       " ('d', 'NN'),\n",
       " ('|', '.')]"
      ]
     },
     "execution_count": 162,
     "metadata": {},
     "output_type": "execute_result"
    }
   ],
   "source": [
    "# example\n",
    "tweet = tweet2string(tweets[6], ACCEPTED_CHARACTERS)\n",
    "zip(tweet, categorize_words(tweet))\n",
    "#[23:36]"
   ]
  },
  {
   "cell_type": "code",
   "execution_count": 7,
   "metadata": {
    "collapsed": false
   },
   "outputs": [
    {
     "data": {
      "text/plain": [
       "['NN',\n",
       " '.',\n",
       " 'VBP',\n",
       " 'VBP',\n",
       " 'VBP',\n",
       " '.',\n",
       " 'PRP$',\n",
       " 'PRP$',\n",
       " '.',\n",
       " 'JJS',\n",
       " 'JJS',\n",
       " 'JJS',\n",
       " 'JJS',\n",
       " '.',\n",
       " 'NN',\n",
       " 'NN',\n",
       " 'NN',\n",
       " 'NN',\n",
       " 'NN',\n",
       " 'NN']"
      ]
     },
     "execution_count": 7,
     "metadata": {},
     "output_type": "execute_result"
    }
   ],
   "source": [
    "categorize_words(\"U are my best friend\")"
   ]
  },
  {
   "cell_type": "code",
   "execution_count": 8,
   "metadata": {
    "collapsed": false
   },
   "outputs": [
    {
     "data": {
      "text/plain": [
       "['MD',\n",
       " 'MD',\n",
       " 'MD',\n",
       " '.',\n",
       " 'VB',\n",
       " '.',\n",
       " 'VB',\n",
       " 'VB',\n",
       " 'VB',\n",
       " 'VB',\n",
       " '.',\n",
       " 'PRP',\n",
       " 'PRP',\n",
       " '.',\n",
       " 'WP',\n",
       " 'WP',\n",
       " 'WP',\n",
       " 'WP',\n",
       " '.',\n",
       " 'NN',\n",
       " 'NN',\n",
       " 'NN',\n",
       " 'NN',\n",
       " '.',\n",
       " 'VBZ',\n",
       " 'VBZ',\n",
       " '.',\n",
       " 'PRP',\n",
       " 'PRP']"
      ]
     },
     "execution_count": 8,
     "metadata": {},
     "output_type": "execute_result"
    }
   ],
   "source": [
    "categorize_words(\"can u tell me what time is it\")"
   ]
  },
  {
   "cell_type": "code",
   "execution_count": null,
   "metadata": {
    "collapsed": true
   },
   "outputs": [],
   "source": []
  }
 ],
 "metadata": {
  "kernelspec": {
   "display_name": "Python [conda root]",
   "language": "python",
   "name": "conda-root-py"
  },
  "language_info": {
   "codemirror_mode": {
    "name": "ipython",
    "version": 2
   },
   "file_extension": ".py",
   "mimetype": "text/x-python",
   "name": "python",
   "nbconvert_exporter": "python",
   "pygments_lexer": "ipython2",
   "version": "2.7.12"
  }
 },
 "nbformat": 4,
 "nbformat_minor": 1
}
