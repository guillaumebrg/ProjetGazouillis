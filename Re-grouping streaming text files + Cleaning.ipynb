{
 "cells": [
  {
   "cell_type": "markdown",
   "metadata": {},
   "source": [
    "# Re-grouping streaming text files + Cleaning"
   ]
  },
  {
   "cell_type": "markdown",
   "metadata": {},
   "source": [
    "## Import "
   ]
  },
  {
   "cell_type": "code",
   "execution_count": 1,
   "metadata": {
    "collapsed": false
   },
   "outputs": [],
   "source": [
    "from bs4 import BeautifulSoup\n",
    "import re\n",
    "import numpy as np\n",
    "import matplotlib.pyplot as plt\n",
    "import pandas as pd\n",
    "import os"
   ]
  },
  {
   "cell_type": "markdown",
   "metadata": {
    "collapsed": false
   },
   "source": [
    "## Path"
   ]
  },
  {
   "cell_type": "code",
   "execution_count": 2,
   "metadata": {
    "collapsed": false,
    "scrolled": true
   },
   "outputs": [
    {
     "name": "stdout",
     "output_type": "stream",
     "text": [
      "['tweets/stream_2016_11_09_10-29-31.txt', 'tweets/stream_2016_11_10_11-46-55.txt', 'tweets/stream_2016_11_11_10-26-28.txt', 'tweets/stream_2016_11_11_10-34-00.txt', 'tweets/stream_2016_11_11_11-31-24.txt', 'tweets/stream_2016_11_11_11-35-57.txt', 'tweets/stream_2016_11_11_13-45-51.txt', 'tweets/stream_2016_11_11_14-51-58.txt', 'tweets/stream_2016_11_11_16-09-11.txt', 'tweets/stream_2016_11_11_18-21-15.txt', 'tweets/stream_2016_11_11_19-15-32.txt', 'tweets/stream_2016_11_11_20-12-24.txt', 'tweets/stream_2016_11_11_20-54-02.txt', 'tweets/stream_2016_11_11_22-41-26.txt', 'tweets/stream_2016_11_12_11-00-40.txt', 'tweets/stream_2016_11_12_12-08-17.txt', 'tweets/stream_2016_11_12_12-59-52.txt', 'tweets/stream_2016_11_12_13-30-37.txt', 'tweets/stream_2016_11_12_14-02-07.txt', 'tweets/stream_2016_11_12_14-35-21.txt', 'tweets/stream_2016_11_12_15-16-45.txt', 'tweets/stream_2016_11_12_15-26-27.txt', 'tweets/stream_2016_11_12_16-30-18.txt', 'tweets/stream_2016_11_12_16-35-11.txt', 'tweets/stream_2016_11_12_17-49-30.txt', 'tweets/stream_2016_11_12_18-02-34.txt', 'tweets/stream_2016_11_12_19-35-07.txt', 'tweets/stream_2016_11_12_20-47-18.txt', 'tweets/stream_2016_11_13_11-46-26.txt', 'tweets/stream_2016_11_13_12-10-28.txt', 'tweets/stream_2016_11_13_13-49-18.txt', 'tweets/stream_2016_11_13_14-49-18.txt', 'tweets/stream_2016_11_13_15-10-54.txt', 'tweets/stream_2016_11_13_16-10-54.txt', 'tweets/stream_2016_11_13_17-08-41.txt', 'tweets/stream_2016_11_13_17-10-54.txt', 'tweets/stream_2016_11_13_18-10-54.txt', 'tweets/stream_2016_11_13_19-10-54.txt', 'tweets/stream_2016_11_13_20-10-54.txt', 'tweets/stream_2016_11_13_21-10-54.txt', 'tweets/stream_2016_11_13_21-42-27.txt', 'tweets/stream_2016_11_13_22-10-54.txt', 'tweets/stream_2016_11_13_23-10-54.txt', 'tweets/stream_2016_11_14_00-10-54.txt', 'tweets/stream_2016_11_14_01-10-55.txt', 'tweets/stream_2016_11_14_02-10-55.txt', 'tweets/stream_2016_11_14_03-10-55.txt', 'tweets/stream_2016_11_14_04-10-55.txt', 'tweets/stream_2016_11_14_05-10-55.txt', 'tweets/stream_2016_11_14_06-10-55.txt', 'tweets/stream_2016_11_14_07-10-56.txt', 'tweets/stream_2016_11_14_08-10-56.txt', 'tweets/stream_2016_11_14_09-10-56.txt', 'tweets/stream_2016_11_14_10-36-58.txt', 'tweets/stream_2016_11_14_11-30-31.txt', 'tweets/stream_2016_11_14_11-39-50.txt', 'tweets/stream_2016_11_14_12-36-02.txt', 'tweets/stream_2016_11_14_12-42-20.txt', 'tweets/stream_2016_11_14_15-32-50.txt', 'tweets/stream_2016_11_14_16-03-40.txt', 'tweets/stream_2016_11_14_16-07-02.txt', 'tweets/stream_2016_11_14_16-19-15.txt', 'tweets/stream_2016_11_14_16-28-12.txt', 'tweets/stream_2016_11_14_17-03-40.txt', 'tweets/stream_2016_11_14_18-03-40.txt', 'tweets/stream_2016_11_14_19-03-40.txt', 'tweets/stream_2016_11_14_20-03-41.txt', 'tweets/stream_2016_11_14_21-47-09.txt', 'tweets/stream_2016_11_14_22-07-38.txt', 'tweets/stream_2016_11_14_23-23-44.txt', 'tweets/stream_2016_11_15_01-48-23.txt', 'tweets/stream_2016_11_15_02-48-24.txt', 'tweets/stream_2016_11_15_03-48-24.txt', 'tweets/stream_2016_11_15_04-48-24.txt', 'tweets/stream_2016_11_15_05-48-24.txt', 'tweets/stream_2016_11_15_06-48-24.txt', 'tweets/stream_2016_11_15_07-48-24.txt', 'tweets/stream_2016_11_15_08-20-11.txt', 'tweets/stream_2016_11_15_08-24-27.txt', 'tweets/stream_2016_11_15_08-26-31.txt', 'tweets/stream_2016_11_15_08-31-17.txt', 'tweets/stream_2016_11_15_09-15-00.txt', 'tweets/stream_2016_11_15_09-31-17.txt', 'tweets/stream_2016_11_15_10-15-40.txt', 'tweets/stream_2016_11_15_11-15-40.txt', 'tweets/stream_2016_11_15_11-24-11.txt', 'tweets/stream_2016_11_15_12-15-40.txt', 'tweets/stream_2016_11_15_13-36-53.txt', 'tweets/stream_2016_11_15_13-58-13.txt', 'tweets/stream_2016_11_15_14-07-26.txt', 'tweets/stream_2016_11_15_14-16-11.txt', 'tweets/stream_2016_11_15_14-28-29.txt', 'tweets/stream_2016_11_15_15-28-29.txt', 'tweets/stream_2016_11_15_16-28-30.txt', 'tweets/stream_2016_11_15_17-04-42.txt', 'tweets/stream_2016_11_15_20-53-24.txt', 'tweets/stream_2016_11_15_22-18-13.txt', 'tweets/stream_2016_11_15_22-24-39.txt', 'tweets/stream_2016_11_15_23-00-02.txt', 'tweets/stream_2016_11_16_08-10-58.txt', 'tweets/stream_2016_11_16_09-41-56.txt', 'tweets/stream_2016_11_16_09-48-53.txt']\n"
     ]
    }
   ],
   "source": [
    "stream_path = \"tweets/\"\n",
    "stream_files = [os.path.join(stream_path, f) for f in os.listdir(stream_path)]\n",
    "print stream_files"
   ]
  },
  {
   "cell_type": "code",
   "execution_count": 3,
   "metadata": {
    "collapsed": false
   },
   "outputs": [
    {
     "name": "stdout",
     "output_type": "stream",
     "text": [
      "62 accepted characters\n"
     ]
    }
   ],
   "source": [
    "ACCEPTED_CHARACTERS = ['a', 'b', 'c', 'd', 'e', 'f', 'g', 'h', 'i', 'j', 'k', \n",
    "                       'l', 'm', 'n', 'o', 'p', 'q', 'r', 's', 't', 'u', 'v', 'w', 'x', 'y', 'z'] + \\\n",
    "['%d'%i for i in range(10)] + \\\n",
    "['/', '@', '#', '&', '\\x98', '\\x92', '\\xf0', '\\x9f', '\\x80', '\\xa6', '\\xe2'] + \\\n",
    "['\\n', ' ', '!', '\"', \"'\", '(', ')', '*', ',', '-', '.', ':', ';', '?', '_']\n",
    "\n",
    "ACCEPTED_CHARACTERS.sort()\n",
    "\n",
    "print len(ACCEPTED_CHARACTERS), \"accepted characters\""
   ]
  },
  {
   "cell_type": "code",
   "execution_count": 4,
   "metadata": {
    "collapsed": false
   },
   "outputs": [
    {
     "name": "stdout",
     "output_type": "stream",
     "text": [
      "['\\n', ' ', '!', '\"', '#', '&', \"'\", '(', ')', '*', ',', '-', '.', '/', '0', '1', '2', '3', '4', '5', '6', '7', '8', '9', ':', ';', '?', '@', '_', 'a', 'b', 'c', 'd', 'e', 'f', 'g', 'h', 'i', 'j', 'k', 'l', 'm', 'n', 'o', 'p', 'q', 'r', 's', 't', 'u', 'v', 'w', 'x', 'y', 'z', '\\x80', '\\x92', '\\x98', '\\x9f', '\\xa6', '\\xe2', '\\xf0']\n"
     ]
    }
   ],
   "source": [
    "print ACCEPTED_CHARACTERS"
   ]
  },
  {
   "cell_type": "markdown",
   "metadata": {},
   "source": [
    "## Custom functions"
   ]
  },
  {
   "cell_type": "code",
   "execution_count": 5,
   "metadata": {
    "collapsed": false,
    "scrolled": true
   },
   "outputs": [],
   "source": [
    "def open_and_read(f):\n",
    "    with open(f, \"r\") as f:\n",
    "        lines = f.readlines()\n",
    "    header = lines[0:3]\n",
    "    tweets = lines[3:]\n",
    "    return header, tweets"
   ]
  },
  {
   "cell_type": "code",
   "execution_count": 6,
   "metadata": {
    "collapsed": false
   },
   "outputs": [],
   "source": [
    "def extract_next_tweet(indice, tweets):\n",
    "    tweet = tweets[indice]\n",
    "    indice += 1\n",
    "    count = 0\n",
    "    while tweet.find(\"<end>\") < 0 and count < 100:\n",
    "        tweet += tweets[indice]\n",
    "        indice += 1\n",
    "        count += 1\n",
    "    return tweet, indice\n",
    "\n",
    "def tweet_cleaning(tweet, accepted_caracters=[]):\n",
    "    # Removing the 'start', 'end' markers\n",
    "    t = tweet.replace(\"<start>\", \"\")\n",
    "    t = t.replace(\"<end>\\n\", \"\")\n",
    "    t = t.replace(\"text:\", \"\")\n",
    "    # Lowercase \n",
    "    t = t.lower()\n",
    "    # Reject tweet with non-accepted characters\n",
    "    if accepted_caracters:\n",
    "        if set(list(t.lower())).issubset(set(accepted_caracters)): # No need to clean\n",
    "            return t \n",
    "        else:\n",
    "            return None\n",
    "            #for char in t:\n",
    "            #    if char not in accepted_caracters:\n",
    "            #        t = t.replace(char, \"\")\n",
    "            # Removing multiple spaces\n",
    "            #t = re.sub(' +',' ', t)\n",
    "    #return t"
   ]
  },
  {
   "cell_type": "markdown",
   "metadata": {},
   "source": [
    "# Test "
   ]
  },
  {
   "cell_type": "markdown",
   "metadata": {},
   "source": [
    "### Open a stream file"
   ]
  },
  {
   "cell_type": "code",
   "execution_count": 7,
   "metadata": {
    "collapsed": false,
    "scrolled": true
   },
   "outputs": [
    {
     "name": "stdout",
     "output_type": "stream",
     "text": [
      "HEADER :\n",
      "['Description: \\n', \"Queries: ['a', 'c', 'b', 'e', 'd', 'g', 'f', 'i', 'h', 'k', 'j', 'm', 'l', 'o', 'n', 'q', 'p', 's', 'r', 'u', 't', 'w', 'v', 'y', 'x', 'z']\\n\", \"Keys: ['text']\\n\"]\n",
      "TWEETS :\n",
      "['<start>text:@_swiminthepoole I would not even ever get to my lecture<end>\\n', '<start>text:Last about 3 hari lepas and tu last kot https://t.co/fmS6zTGUiQ<end>\\n', '<start>text:RT @DataIsBeautiful: How we voted \\xe2\\x80\\x94 by age, education, race and sexual orientation https://t.co/0g6tImx9Ms #dataviz https://t.co/ujHRPTrwsf<end>\\n', \"<start>text:RT @sarcasmwords1: This Is How Much Money Adult Film Stars Make for Different Types of 'Acts'\\n\"]\n"
     ]
    }
   ],
   "source": [
    "header, tweets = open_and_read(stream_files[2])\n",
    "print \"HEADER :\\n\", header\n",
    "print \"TWEETS :\\n\", tweets[0:4]"
   ]
  },
  {
   "cell_type": "markdown",
   "metadata": {},
   "source": [
    "### Extract a tweet at position x"
   ]
  },
  {
   "cell_type": "code",
   "execution_count": 8,
   "metadata": {
    "collapsed": false,
    "scrolled": true
   },
   "outputs": [
    {
     "name": "stdout",
     "output_type": "stream",
     "text": [
      "<start>text:@_swiminthepoole I would not even ever get to my lecture<end>\n",
      "\n"
     ]
    }
   ],
   "source": [
    "x = 0\n",
    "tweet, new_x = extract_next_tweet(x, tweets)\n",
    "print tweet"
   ]
  },
  {
   "cell_type": "markdown",
   "metadata": {},
   "source": [
    "### Cleaning a tweet"
   ]
  },
  {
   "cell_type": "markdown",
   "metadata": {},
   "source": [
    "- Removing smileys\n",
    "- Removing markers (such as \"<start>\", \"<end>\"...)\n",
    "- Labelize"
   ]
  },
  {
   "cell_type": "code",
   "execution_count": 9,
   "metadata": {
    "collapsed": false,
    "scrolled": true
   },
   "outputs": [
    {
     "name": "stdout",
     "output_type": "stream",
     "text": [
      "last about 3 hari lepas and tu last kot https://t.co/fms6ztguiq\n"
     ]
    }
   ],
   "source": [
    "tweet, new_x = extract_next_tweet(new_x, tweets)\n",
    "cleaned_tweet = tweet_cleaning(tweet, ACCEPTED_CHARACTERS)\n",
    "print cleaned_tweet\n",
    "#print \"Label :\", label\n",
    "#print \"Smiley :\", smiley"
   ]
  },
  {
   "cell_type": "markdown",
   "metadata": {},
   "source": [
    "## Extracting/Cleaning all tweets available"
   ]
  },
  {
   "cell_type": "code",
   "execution_count": 10,
   "metadata": {
    "collapsed": false
   },
   "outputs": [
    {
     "name": "stdout",
     "output_type": "stream",
     "text": [
      "\n",
      "tweets/stream_2016_11_09_10-29-31.txt\n",
      "Tweet count = 19999 \n",
      "tweets/stream_2016_11_10_11-46-55.txt\n",
      "Tweet count = 146129 \n",
      "tweets/stream_2016_11_11_10-26-28.txt\n",
      "Tweet count = 149416 \n",
      "tweets/stream_2016_11_11_10-34-00.txt\n",
      "Tweet count = 271346 \n",
      "tweets/stream_2016_11_11_11-31-24.txt\n",
      "Tweet count = 271787 \n",
      "tweets/stream_2016_11_11_11-35-57.txt\n",
      "Tweet count = 403585 \n",
      "tweets/stream_2016_11_11_13-45-51.txt\n",
      "Tweet count = 538195 \n",
      "tweets/stream_2016_11_11_14-51-58.txt\n",
      "Tweet count = 673387 \n",
      "tweets/stream_2016_11_11_16-09-11.txt\n",
      "Tweet count = 807618 \n",
      "tweets/stream_2016_11_11_18-21-15.txt\n",
      "Tweet count = 854063 \n",
      "tweets/stream_2016_11_11_19-15-32.txt\n",
      "Tweet count = 986440 \n",
      "tweets/stream_2016_11_11_20-12-24.txt\n",
      "Tweet count = 1107812 \n",
      "tweets/stream_2016_11_11_20-54-02.txt\n",
      "Tweet count = 1238162 \n",
      "tweets/stream_2016_11_11_22-41-26.txt\n",
      "Tweet count = 1370074 \n",
      "tweets/stream_2016_11_12_11-00-40.txt\n",
      "Tweet count = 1491480 \n",
      "tweets/stream_2016_11_12_12-08-17.txt\n",
      "Tweet count = 1534299 \n",
      "tweets/stream_2016_11_12_12-59-52.txt\n",
      "Tweet count = 1656645 \n",
      "tweets/stream_2016_11_12_13-30-37.txt\n",
      "Tweet count = 1789511 \n",
      "tweets/stream_2016_11_12_14-02-07.txt\n",
      "Tweet count = 1917004 \n",
      "tweets/stream_2016_11_12_14-35-21.txt\n",
      "Tweet count = 1918620 \n",
      "tweets/stream_2016_11_12_15-16-45.txt\n",
      "Tweet count = 2021499 \n",
      "tweets/stream_2016_11_12_15-26-27.txt\n",
      "Tweet count = 2117404 \n",
      "tweets/stream_2016_11_12_16-30-18.txt\n",
      "Tweet count = 2199724 \n",
      "tweets/stream_2016_11_12_16-35-11.txt\n",
      "Tweet count = 2328077 \n",
      "tweets/stream_2016_11_12_17-49-30.txt\n",
      "Tweet count = 2455721 \n",
      "tweets/stream_2016_11_12_18-02-34.txt\n",
      "Tweet count = 2486837 \n",
      "tweets/stream_2016_11_12_19-35-07.txt\n",
      "Tweet count = 2619442 \n",
      "tweets/stream_2016_11_12_20-47-18.txt\n",
      "Tweet count = 2727076 \n",
      "tweets/stream_2016_11_13_11-46-26.txt\n",
      "Tweet count = 2736625 \n",
      "tweets/stream_2016_11_13_12-10-28.txt\n",
      "Tweet count = 2870385 \n",
      "tweets/stream_2016_11_13_13-49-18.txt\n",
      "Tweet count = 3003639 \n",
      "tweets/stream_2016_11_13_14-49-18.txt\n",
      "Tweet count = 3046017 \n",
      "tweets/stream_2016_11_13_15-10-54.txt\n",
      "Tweet count = 3179964 \n",
      "tweets/stream_2016_11_13_16-10-54.txt\n",
      "Tweet count = 3314277 \n",
      "tweets/stream_2016_11_13_17-08-41.txt\n",
      "Tweet count = 3447661 \n",
      "tweets/stream_2016_11_13_17-10-54.txt\n",
      "Tweet count = 3580628 \n",
      "tweets/stream_2016_11_13_18-10-54.txt\n",
      "Tweet count = 3713088 \n",
      "tweets/stream_2016_11_13_19-10-54.txt\n",
      "Tweet count = 3847690 \n",
      "tweets/stream_2016_11_13_20-10-54.txt\n",
      "Tweet count = 3980288 \n",
      "tweets/stream_2016_11_13_21-10-54.txt\n",
      "Tweet count = 4113461 \n",
      "tweets/stream_2016_11_13_21-42-27.txt\n",
      "Tweet count = 4230343 \n",
      "tweets/stream_2016_11_13_22-10-54.txt\n",
      "Tweet count = 4363013 \n",
      "tweets/stream_2016_11_13_23-10-54.txt\n",
      "Tweet count = 4496213 \n",
      "tweets/stream_2016_11_14_00-10-54.txt\n",
      "Tweet count = 4628334 \n",
      "tweets/stream_2016_11_14_01-10-55.txt\n",
      "Tweet count = 4760433 \n",
      "tweets/stream_2016_11_14_02-10-55.txt\n",
      "Tweet count = 4893327 \n",
      "tweets/stream_2016_11_14_03-10-55.txt\n",
      "Tweet count = 5027265 \n",
      "tweets/stream_2016_11_14_04-10-55.txt\n",
      "Tweet count = 5161042 \n",
      "tweets/stream_2016_11_14_05-10-55.txt\n",
      "Tweet count = 5294185 \n",
      "tweets/stream_2016_11_14_06-10-55.txt\n",
      "Tweet count = 5426318 \n",
      "tweets/stream_2016_11_14_07-10-56.txt\n",
      "Tweet count = 5557757 \n",
      "tweets/stream_2016_11_14_08-10-56.txt\n",
      "Tweet count = 5688878 \n",
      "tweets/stream_2016_11_14_09-10-56.txt\n",
      "Tweet count = 5787155 \n",
      "tweets/stream_2016_11_14_10-36-58.txt\n",
      "Tweet count = 5887282 \n",
      "tweets/stream_2016_11_14_11-30-31.txt\n",
      "Tweet count = 5999976 \n",
      "tweets/stream_2016_11_14_11-39-50.txt\n",
      "Tweet count = 6089129 \n",
      "tweets/stream_2016_11_14_12-36-02.txt\n",
      "Tweet count = 6197625 \n",
      "tweets/stream_2016_11_14_12-42-20.txt\n",
      "Tweet count = 6594477 \n",
      "tweets/stream_2016_11_14_15-32-50.txt\n",
      "Tweet count = 6664968 \n",
      "tweets/stream_2016_11_14_16-03-40.txt\n",
      "Tweet count = 6798333 \n",
      "tweets/stream_2016_11_14_16-07-02.txt\n",
      "Tweet count = 6815281 \n",
      "tweets/stream_2016_11_14_16-19-15.txt\n",
      "Tweet count = 7259371 \n",
      "tweets/stream_2016_11_14_16-28-12.txt\n",
      "Tweet count = 7309593 \n",
      "tweets/stream_2016_11_14_17-03-40.txt\n",
      "Tweet count = 7442842 \n",
      "tweets/stream_2016_11_14_18-03-40.txt\n",
      "Tweet count = 7576748 \n",
      "tweets/stream_2016_11_14_19-03-40.txt\n",
      "Tweet count = 7711638 \n",
      "tweets/stream_2016_11_14_20-03-41.txt\n",
      "Tweet count = 7792278 \n",
      "tweets/stream_2016_11_14_21-47-09.txt\n",
      "Tweet count = 8004694 \n",
      "tweets/stream_2016_11_14_22-07-38.txt\n",
      "Tweet count = 8099718 \n",
      "tweets/stream_2016_11_14_23-23-44.txt\n",
      "Tweet count = 9403183 \n",
      "tweets/stream_2016_11_15_01-48-23.txt\n",
      "Tweet count = 9536124 \n",
      "tweets/stream_2016_11_15_02-48-24.txt\n",
      "Tweet count = 9669830 \n",
      "tweets/stream_2016_11_15_03-48-24.txt\n",
      "Tweet count = 9803402 \n",
      "tweets/stream_2016_11_15_04-48-24.txt\n",
      "Tweet count = 9936848 \n",
      "tweets/stream_2016_11_15_05-48-24.txt\n",
      "Tweet count = 10068968 \n",
      "tweets/stream_2016_11_15_06-48-24.txt\n",
      "Tweet count = 10201957 \n",
      "tweets/stream_2016_11_15_07-48-24.txt\n",
      "Tweet count = 10269519 \n",
      "tweets/stream_2016_11_15_08-20-11.txt\n",
      "Tweet count = 10276385 \n",
      "tweets/stream_2016_11_15_08-24-27.txt\n",
      "Tweet count = 10278156 \n",
      "tweets/stream_2016_11_15_08-26-31.txt\n",
      "Tweet count = 10286025 \n",
      "tweets/stream_2016_11_15_08-31-17.txt\n",
      "Tweet count = 10417756 \n",
      "tweets/stream_2016_11_15_09-15-00.txt\n",
      "Tweet count = 11884070 \n",
      "tweets/stream_2016_11_15_09-31-17.txt\n",
      "Tweet count = 11979896 \n",
      "tweets/stream_2016_11_15_10-15-40.txt\n",
      "Tweet count = 12112778 \n",
      "tweets/stream_2016_11_15_11-15-40.txt\n",
      "Tweet count = 12245297 \n",
      "tweets/stream_2016_11_15_11-24-11.txt\n",
      "Tweet count = 12507328 \n",
      "tweets/stream_2016_11_15_12-15-40.txt\n",
      "Tweet count = 12601533 \n",
      "tweets/stream_2016_11_15_13-36-53.txt\n",
      "Tweet count = 12667113 \n",
      "tweets/stream_2016_11_15_13-58-13.txt\n",
      "Tweet count = 12960232 \n",
      "tweets/stream_2016_11_15_14-07-26.txt\n",
      "Tweet count = 12976711 \n",
      "tweets/stream_2016_11_15_14-16-11.txt\n",
      "Tweet count = 13001097 \n",
      "tweets/stream_2016_11_15_14-28-29.txt\n",
      "Tweet count = 13134534 \n",
      "tweets/stream_2016_11_15_15-28-29.txt\n",
      "Tweet count = 13268393 \n",
      "tweets/stream_2016_11_15_16-28-30.txt\n",
      "Tweet count = 13285565 \n",
      "tweets/stream_2016_11_15_17-04-42.txt\n",
      "Tweet count = 13327257 \n",
      "tweets/stream_2016_11_15_20-53-24.txt\n",
      "Tweet count = 14790973 \n",
      "tweets/stream_2016_11_15_22-18-13.txt\n",
      "Tweet count = 14802802 \n",
      "tweets/stream_2016_11_15_22-24-39.txt\n",
      "Tweet count = 14878019 \n",
      "tweets/stream_2016_11_15_23-00-02.txt\n",
      "Tweet count = 14931312 \n",
      "tweets/stream_2016_11_16_08-10-58.txt\n",
      "Tweet count = 15004323 \n",
      "tweets/stream_2016_11_16_09-41-56.txt\n",
      "Tweet count = 15016968 \n",
      "tweets/stream_2016_11_16_09-48-53.txt\n",
      "Tweet count = 15075059\n"
     ]
    }
   ],
   "source": [
    "tweets = []\n",
    "\n",
    "tweet_count = 0\n",
    "for stream_file in stream_files:\n",
    "    print \"\\n\", stream_file\n",
    "    # Open and read file\n",
    "    header, ts = open_and_read(stream_file)\n",
    "    # Extracting tweet loop\n",
    "    counter = 0\n",
    "    while counter < len(ts)-1:\n",
    "        # Extract\n",
    "        t, counter = extract_next_tweet(counter, ts)\n",
    "        # Clean\n",
    "        t = tweet_cleaning(t, accepted_caracters=ACCEPTED_CHARACTERS)\n",
    "        \n",
    "        # Store\n",
    "        if t is not None:\n",
    "            tweets.append(t)\n",
    "            # Tweet count\n",
    "            tweet_count += 1\n",
    "        print \"\\rTweet count = %d\"%tweet_count,"
   ]
  },
  {
   "cell_type": "code",
   "execution_count": 11,
   "metadata": {
    "collapsed": false
   },
   "outputs": [
    {
     "data": {
      "image/png": "[encoded data removed]",
      "text/plain": [
       "<matplotlib.figure.Figure at 0x700fed30>"
      ]
     },
     "metadata": {},
     "output_type": "display_data"
    }
   ],
   "source": [
    "len_tweets = [len(t) for t in tweets]\n",
    "\n",
    "%matplotlib inline\n",
    "plt.title(\"Tweet length histogram\")\n",
    "plt.hist(len_tweets, bins=np.arange(0, 160, 5))\n",
    "plt.show()"
   ]
  },
  {
   "cell_type": "markdown",
   "metadata": {},
   "source": [
    "#### Print some long tweets (>140 char)"
   ]
  },
  {
   "cell_type": "code",
   "execution_count": 12,
   "metadata": {
    "collapsed": false
   },
   "outputs": [
    {
     "name": "stdout",
     "output_type": "stream",
     "text": [
      "Tweet of length 142 : rt @mistercapone: i've always thought we were equally divided but i see now i was being naive. i really have no idea how divided we are. or…\n",
      "Tweet of length 142 : rt @phillyfanlife: the world's ending just as the eagles get a franchise qb and the sixers, flyers and phils have legit cornerstone pieces.…\n",
      "Tweet of length 141 : what should organisations consider if they are to prepare for cyber insurance?  november 09, 2016 at 05:00pm \n",
      "comp… https://t.co/oaaiuzapct\n",
      "Tweet of length 145 : rt @lhfang: hillary team's strategy of directly &amp; implicitly (#imwithher) accusing *all* critics of sexism fueled bitter resentment on the…\n",
      "Tweet of length 142 : rt @calaiii_: dear muslims, immigrants, woman, disabled, and all people of color, \n",
      "i love you- boldly and proudly. we will endure. \n",
      "we will…\n",
      "Tweet of length 143 : rt @pettyblackgiri: if your political ideals include racism, misogyny, xenophobia, homophobia, transphobia, &amp; excuses for sexual predat… \n",
      "Tweet of length 142 : rt @jamesedgriffin: amish vote big part of the @realdonaldtrump win in pa!  thank you amish community for loving america! https://t.co/hafi…\n",
      "Tweet of length 142 : rt @kendraisforever: @love__arianna makes sense but i still think they should have a say for their grandchildren and great great grandchild…\n",
      "Tweet of length 142 : rt @evebennettx: are some americans even aware of what they've just voted for cos i feel like the rest of the world sees this way different…\n",
      "Tweet of length 142 : rt @steventeaster: hey ya'll don't be mad @ me! \n",
      "just using my freedom of speach before i have 2 go out &amp; pick cotton! forget 4o acere… \n",
      "Tweet of length 141 : rt @chrisevans: this is an embarrassing night for america. we've let a hatemonger lead our great nation. we've let a bully set our course.…\n",
      "Tweet of length 142 : rt @anuscosgrove: how can i go to sleep knowing our next president doesnt even believe global warming is real and is literally on trial for…\n",
      "Tweet of length 142 : rt @naveenchristian: if you voted for trump,\n",
      "we aren't friends anymore.\n",
      "your vote was personal.\n",
      "unfollow me.\n",
      "block me.\n",
      "unfriend me.\n",
      "i don't…\n",
      "Tweet of length 142 : i'm gonna retweet myself for the people in the back trump can't do whatever he wants. there's laws in place to keep… https://t.co/enbqxilwhh\n",
      "Tweet of length 142 : rt @chandraprobha: @armaanmalik22 \n",
      "ufff...can't handle it yar..\n",
      "so many magical songs of u r coming up..simply can't resist them...hell add…\n",
      "Tweet of length 154 : rt @franklin_graham: this election has been long, tough, &amp; divisive. it's time to put that behind us &amp; come together in unity &amp; work togeth…\n",
      "Tweet of length 142 : rt @reginae_carter1: idk about y'all but ... the day barack steps foot out of office , there won't be a president in my eyes until the next…\n",
      "Tweet of length 142 : rt @michaeltrucco: so, 1/2 of america, you're okay with a racist, xenophobic, lying, misogynistic, sexual predator running this country? bu…\n",
      "Tweet of length 146 : rt @president_karma: hillary's spent her life fighting for americans &amp; we've just let her down. what a backward step. #electionnight #presi…\n",
      "Tweet of length 141 : rt @patriciavalle15: people are saying \"i won't see you differently bc of who you voted for\", but not me. you've been exposed bc obviously…\n",
      "Tweet of length 142 : rt @itisprashanth: some where in up, sacks full of money is either being dumped on road like this or getting burnt!  #demonetisation https:…\n"
     ]
    }
   ],
   "source": [
    "count = 0\n",
    "for t in tweets:\n",
    "    if len(t)>140:\n",
    "        print \"Tweet of length %d :\"%len(t), t\n",
    "        count += 1\n",
    "    if count > 20:\n",
    "        break"
   ]
  },
  {
   "cell_type": "markdown",
   "metadata": {},
   "source": [
    "# Convert to one-hot"
   ]
  },
  {
   "cell_type": "code",
   "execution_count": 13,
   "metadata": {
    "collapsed": false
   },
   "outputs": [],
   "source": [
    "def one_hot_char(char, accepted_characters):\n",
    "    one_hot = np.zeros(len(accepted_characters)+1)\n",
    "    for i, accepted_char in zip(range(len(accepted_characters)),accepted_characters):\n",
    "        if char == accepted_char:\n",
    "            one_hot[i] = 1\n",
    "            break\n",
    "    return one_hot\n",
    "\n",
    "def one_hot_sentence(sentence, accepted_characters):\n",
    "    # Char by char one-hot encoding\n",
    "    one_hot = [one_hot_char(char, accepted_characters) for char in sentence]\n",
    "    # Add a special char for the 'end' of the sentence : [0,0,....,0,0,1]\n",
    "    special_char = np.zeros(len(accepted_characters)+1)\n",
    "    special_char[-1] = 1\n",
    "    one_hot += [special_char]\n",
    "    # Return as a numpy array of shape (len(sentence), len(accepted_char))\n",
    "    return np.array(one_hot, \"uint8\")\n",
    "\n",
    "def char2label(char, accepted_characters):\n",
    "    for i, accepted_char in zip(range(len(accepted_characters)),accepted_characters):\n",
    "        if char == accepted_char:\n",
    "            label = i\n",
    "            break\n",
    "    return np.array([label])\n",
    "\n",
    "def sentence2label(sentence, accepted_characters):\n",
    "    # Char by char one-hot encoding\n",
    "    one_hot = [char2label(char, accepted_characters) for char in sentence]\n",
    "    # Add a special char for the 'end' of the sentence : [D]\n",
    "    special_char = [len(accepted_characters)]\n",
    "    one_hot += [special_char]\n",
    "    # Return as a numpy array of shape (len(sentence), len(accepted_char))\n",
    "    return np.array(one_hot, \"uint8\")\n",
    "\n",
    "def length_management(one_hot_sentence, max_len, mode=\"label\", padding=len(ACCEPTED_CHARACTERS)+1):\n",
    "    '''Padding such that each sentence contains 'max_len' timesteps.'''\n",
    "    if one_hot_sentence.shape[0]>=max_len: # too long\n",
    "        return one_hot_sentence[0:max_len]\n",
    "    else:\n",
    "        if mode == \"one-hot\":\n",
    "            # Padding\n",
    "            zero_padding = np.zeros((1,one_hot_sentence.shape[1]), \"uint8\")\n",
    "            one_hot_sentence = np.vstack((one_hot_sentence, \n",
    "                                          zero_padding.repeat(max_len-one_hot_sentence.shape[0], axis=0)))\n",
    "        else:\n",
    "            padding = np.ones((max_len-one_hot_sentence.shape[0],1), \"uint8\")*padding\n",
    "            one_hot_sentence = np.vstack((one_hot_sentence, padding))\n",
    "        return one_hot_sentence"
   ]
  },
  {
   "cell_type": "markdown",
   "metadata": {},
   "source": [
    "### Demo on one tweet"
   ]
  },
  {
   "cell_type": "code",
   "execution_count": 18,
   "metadata": {
    "collapsed": false
   },
   "outputs": [
    {
     "name": "stdout",
     "output_type": "stream",
     "text": [
      "rt @kdotjohnson_: polar express the best christmas movie of all time idc https://t.co/bmpgpzo32z\n",
      "\n",
      "One-hot encoding of size : (87L, 63L)\n",
      "[[0 0 0 ..., 0 0 0]\n",
      " [0 0 0 ..., 0 0 0]\n",
      " [0 0 0 ..., 0 0 0]\n",
      " ..., \n",
      " [0 0 1 ..., 0 0 0]\n",
      " [0 0 1 ..., 0 0 0]\n",
      " [0 0 0 ..., 0 0 1]]\n",
      "\n",
      "After padding : (161L, 63L)\n",
      "[[0 0 0 ..., 0 0 0]\n",
      " [0 0 0 ..., 0 0 0]\n",
      " [0 0 0 ..., 0 0 0]\n",
      " ..., \n",
      " [0 0 0 ..., 0 0 0]\n",
      " [0 0 0 ..., 0 0 0]\n",
      " [0 0 0 ..., 0 0 0]]\n"
     ]
    }
   ],
   "source": [
    "# Pick a tweet\n",
    "n = np.random.randint(0,len(tweets))\n",
    "tweet = tweets[n]\n",
    "print tweet\n",
    "# One-hot\n",
    "one_hot_tweet = one_hot_sentence(tweets[0], ACCEPTED_CHARACTERS)\n",
    "print \"\\nOne-hot encoding of size :\", one_hot_tweet.shape\n",
    "print one_hot_tweet\n",
    "# Padding\n",
    "one_hot_tweet = length_management(one_hot_tweet, 161, mode=\"one-hot\")\n",
    "print \"\\nAfter padding :\", one_hot_tweet.shape\n",
    "print one_hot_tweet"
   ]
  },
  {
   "cell_type": "markdown",
   "metadata": {},
   "source": [
    "#### But One-Hot encoding : too heavy to store... \n",
    "\n",
    "#### Cheaper : just keeping the index where encoding == 1"
   ]
  },
  {
   "cell_type": "code",
   "execution_count": 19,
   "metadata": {
    "collapsed": false
   },
   "outputs": [
    {
     "name": "stdout",
     "output_type": "stream",
     "text": [
      "what in the world?! https://t.co/7iktp8joet\n",
      "\n",
      "Char2Label encoding of size : (87L, 1L)\n",
      "[[53]\n",
      " [29]\n",
      " [40]\n",
      " [40]\n",
      " [ 1]] \n",
      "...\n",
      "[[ 1]\n",
      " [ 2]\n",
      " [ 2]\n",
      " [ 2]\n",
      " [62]]\n",
      "\n",
      "After padding : (161L, 1L)\n",
      "[[53]\n",
      " [29]\n",
      " [40]\n",
      " [40]\n",
      " [ 1]] \n",
      "...\n",
      "[[63]\n",
      " [63]\n",
      " [63]\n",
      " [63]\n",
      " [63]]\n"
     ]
    }
   ],
   "source": [
    "# Pick a tweet\n",
    "n = np.random.randint(0,len(tweets))\n",
    "tweet = tweets[n]\n",
    "print tweet\n",
    "# One-hot\n",
    "one_hot_tweet = sentence2label(tweets[0], ACCEPTED_CHARACTERS)\n",
    "print \"\\nChar2Label encoding of size :\", one_hot_tweet.shape\n",
    "print one_hot_tweet[0:5], \"\\n...\\n\", one_hot_tweet[-5:]\n",
    "# Padding\n",
    "one_hot_tweet = length_management(one_hot_tweet, 161, mode=\"label\")\n",
    "print \"\\nAfter padding :\", one_hot_tweet.shape\n",
    "print one_hot_tweet[0:5], \"\\n...\\n\", one_hot_tweet[-5:]"
   ]
  },
  {
   "cell_type": "markdown",
   "metadata": {},
   "source": [
    "## Encoding the whole dataset"
   ]
  },
  {
   "cell_type": "code",
   "execution_count": 41,
   "metadata": {
    "collapsed": false
   },
   "outputs": [
    {
     "name": "stdout",
     "output_type": "stream",
     "text": [
      "Count = 15075058  tweets.\n"
     ]
    }
   ],
   "source": [
    "T = 161\n",
    "D = 1 # len(ACCEPTED_CARACTERS)+1 if one-hot\n",
    "# Instanciate\n",
    "dataset = np.zeros((len(tweets), T, D), \"uint8\")\n",
    "# Fill in\n",
    "for k,t in enumerate(tweets):\n",
    "    # One-hot encoding\n",
    "    one_hot_tweet = sentence2label(t, ACCEPTED_CHARACTERS)\n",
    "    # Padding\n",
    "    dataset[k] = length_management(one_hot_tweet, T)\n",
    "    # Print \n",
    "    print \"\\rCount = %d\"%(k+i),\n",
    "print \" tweets.\""
   ]
  },
  {
   "cell_type": "markdown",
   "metadata": {},
   "source": [
    "# Save"
   ]
  },
  {
   "cell_type": "code",
   "execution_count": 44,
   "metadata": {
    "collapsed": false
   },
   "outputs": [],
   "source": [
    "np.save(\"data/dataset.npy\", dataset)"
   ]
  },
  {
   "cell_type": "code",
   "execution_count": null,
   "metadata": {
    "collapsed": true
   },
   "outputs": [],
   "source": []
  }
 ],
 "metadata": {
  "kernelspec": {
   "display_name": "Python 2",
   "language": "python",
   "name": "python2"
  },
  "language_info": {
   "codemirror_mode": {
    "name": "ipython",
    "version": 2
   },
   "file_extension": ".py",
   "mimetype": "text/x-python",
   "name": "python",
   "nbconvert_exporter": "python",
   "pygments_lexer": "ipython2",
   "version": "2.7.8"
  }
 },
 "nbformat": 4,
 "nbformat_minor": 0
}
