{
 "cells": [
  {
   "cell_type": "markdown",
   "metadata": {},
   "source": [
    "# Import"
   ]
  },
  {
   "cell_type": "markdown",
   "metadata": {},
   "source": [
    "### Basic"
   ]
  },
  {
   "cell_type": "code",
   "execution_count": 1,
   "metadata": {
    "collapsed": false
   },
   "outputs": [
    {
     "name": "stderr",
     "output_type": "stream",
     "text": [
      "Using Theano backend.\n",
      "Using gpu device 0: GeForce GTX 850M (CNMeM is disabled, cuDNN 5005)\n"
     ]
    }
   ],
   "source": [
    "import keras"
   ]
  },
  {
   "cell_type": "code",
   "execution_count": 2,
   "metadata": {
    "collapsed": true
   },
   "outputs": [],
   "source": [
    "import matplotlib.pyplot as plt\n",
    "import numpy as np\n",
    "import os\n",
    "import sys\n",
    "import time"
   ]
  },
  {
   "cell_type": "code",
   "execution_count": 3,
   "metadata": {
    "collapsed": false
   },
   "outputs": [],
   "source": [
    "%matplotlib inline"
   ]
  },
  {
   "cell_type": "code",
   "execution_count": 4,
   "metadata": {
    "collapsed": true
   },
   "outputs": [],
   "source": [
    "import params"
   ]
  },
  {
   "cell_type": "markdown",
   "metadata": {},
   "source": [
    "# Load dataset"
   ]
  },
  {
   "cell_type": "code",
   "execution_count": 5,
   "metadata": {
    "collapsed": false,
    "scrolled": true
   },
   "outputs": [],
   "source": [
    "DATASET = np.load(\"data/dataset.npy\")"
   ]
  },
  {
   "cell_type": "code",
   "execution_count": 6,
   "metadata": {
    "collapsed": false
   },
   "outputs": [
    {
     "name": "stdout",
     "output_type": "stream",
     "text": [
      "Shape : (15075059L, 161L, 1L)\n"
     ]
    }
   ],
   "source": [
    "print \"Shape :\", DATASET.shape"
   ]
  },
  {
   "cell_type": "markdown",
   "metadata": {},
   "source": [
    "### Splitting into a trainset, a validset and a testset"
   ]
  },
  {
   "cell_type": "code",
   "execution_count": 7,
   "metadata": {
    "collapsed": true
   },
   "outputs": [],
   "source": [
    "def split_dataset(dataset, split_rate=[0.94, 0.01, 0.04], seed=123): # see preprocessing.py\n",
    "    # index = 1,2,3,...,N\n",
    "    N = dataset.shape[0]\n",
    "    index = range(dataset.shape[0])\n",
    "    # shuffle\n",
    "    np.random.seed(seed)\n",
    "    np.random.shuffle(index)\n",
    "    # division\n",
    "    train_rate, valid_rate, test_rate = np.cumsum(split_rate)\n",
    "    index_train = index[0:int(train_rate*N)]\n",
    "    index_valid = index[int(train_rate*N):int(valid_rate*N)]\n",
    "    index_test = index[int(valid_rate*N):int(test_rate*N)]\n",
    "    # return \n",
    "    return index_train, index_valid, index_test"
   ]
  },
  {
   "cell_type": "code",
   "execution_count": 8,
   "metadata": {
    "collapsed": false,
    "scrolled": true
   },
   "outputs": [],
   "source": [
    "index_train, index_valid, index_test = split_dataset(DATASET)"
   ]
  },
  {
   "cell_type": "markdown",
   "metadata": {},
   "source": [
    "**index_train, index_valid, index_test** are such that :\n",
    "\n",
    "trainset = DATASET[index_train]\n",
    "\n",
    "validset = DATASET[index_valid]\n",
    "\n",
    "testset = DATASET[index_test]"
   ]
  },
  {
   "cell_type": "markdown",
   "metadata": {},
   "source": [
    "# Preprocessing function"
   ]
  },
  {
   "cell_type": "code",
   "execution_count": 9,
   "metadata": {
    "collapsed": true
   },
   "outputs": [],
   "source": [
    "ACCEPTED_CHARS = params.ACCEPTED_CHARS"
   ]
  },
  {
   "cell_type": "code",
   "execution_count": 10,
   "metadata": {
    "collapsed": false
   },
   "outputs": [
    {
     "name": "stdout",
     "output_type": "stream",
     "text": [
      "['\\n', ' ', '!', '\"', '#', '&', \"'\", '(', ')', '*', ',', '-', '.', '/', '0', '1', '2', '3', '4', '5', '6', '7', '8', '9', ':', ';', '?', '@', '_', 'a', 'b', 'c', 'd', 'e', 'f', 'g', 'h', 'i', 'j', 'k', 'l', 'm', 'n', 'o', 'p', 'q', 'r', 's', 't', 'u', 'v', 'w', 'x', 'y', 'z', '\\x80', '\\x92', '\\x98', '\\x9f', '\\xa6', '\\xe2', '\\xf0']\n"
     ]
    }
   ],
   "source": [
    "print ACCEPTED_CHARS"
   ]
  },
  {
   "cell_type": "code",
   "execution_count": 11,
   "metadata": {
    "collapsed": false
   },
   "outputs": [],
   "source": [
    "def batch2onehot(batch, D): # see preprocessing.py\n",
    "    ''' Function used during the training to encode batches.\n",
    "    Input size : (batch_size, tweet_length, 1).\n",
    "    Output size : (batch_size, tweet_length, D)'''\n",
    "    B, T = batch.shape[0:2]\n",
    "    one_hot_batch = np.zeros((B*T, D))\n",
    "    one_hot_batch[range(B*T), batch.flatten()] = 1\n",
    "    one_hot_batch = one_hot_batch.reshape((B,T,D))\n",
    "    return one_hot_batch\n",
    "\n",
    "def batch2tweet(batch, accepted_caracters, special_char=\"\"): # see preprocessing.py\n",
    "    '''Not optimized. But not used during the training : no need to be fast.'''\n",
    "    tweets = []\n",
    "    for t in batch:\n",
    "        tweet = \"\"\n",
    "        for char in t:\n",
    "            try:\n",
    "                tweet += accepted_caracters[char[0]]\n",
    "            except:\n",
    "                tweet += special_char # Special marker indicating the end of the tweet\n",
    "        tweets.append(tweet)\n",
    "    return tweets\n",
    "\n",
    "def onehot2tweet(batch, accepted_caracters, special_char=\"\"): # see preprocessing.py\n",
    "    '''Not optimized. But not used during the training : no need to be fast.'''\n",
    "    tweets = []\n",
    "    for t in batch:\n",
    "        tweet = \"\"\n",
    "        for char in t:\n",
    "            try:\n",
    "                tweet += accepted_caracters[np.where(char==1)[0][0]]\n",
    "            except:\n",
    "                tweet += special_char # Special marker indicating the end of the tweet\n",
    "        tweets.append(tweet)\n",
    "    return tweets"
   ]
  },
  {
   "cell_type": "markdown",
   "metadata": {},
   "source": [
    "### Test preprocessing functions"
   ]
  },
  {
   "cell_type": "code",
   "execution_count": 12,
   "metadata": {
    "collapsed": false
   },
   "outputs": [
    {
     "name": "stdout",
     "output_type": "stream",
     "text": [
      "Char 0 from tweet 11 : [ 0.  0.  0.  0.  0.  0.  0.  0.  0.  0.  0.  0.  0.  0.  0.  0.  0.  0.\n",
      "  0.  0.  0.  0.  0.  0.  0.  0.  0.  0.  0.  0.  0.  0.  0.  0.  0.  0.\n",
      "  0.  0.  0.  0.  0.  0.  0.  0.  0.  0.  1.  0.  0.  0.  0.  0.  0.  0.\n",
      "  0.  0.  0.  0.  0.  0.  0.  0.  0.  0.]\n"
     ]
    }
   ],
   "source": [
    "D = params.D  # dimension of one-hot vectors\n",
    "B = params.B  # batch size for the demo\n",
    "T = params.T  # max length of a tweet\n",
    "batch = DATASET[0:B] \n",
    "# Dataset > One-hot\n",
    "one_hot_batch = batch2onehot(batch, D)\n",
    "\n",
    "# Pick a tweet\n",
    "t = np.random.randint(B)\n",
    "# Pick a char\n",
    "c = np.random.randint(T)\n",
    "print \"Char %d from tweet %d :\"%(c,t), one_hot_batch[t][c]"
   ]
  },
  {
   "cell_type": "markdown",
   "metadata": {},
   "source": [
    "#### If you want to, possible to go back in the \"string\" domain"
   ]
  },
  {
   "cell_type": "code",
   "execution_count": 13,
   "metadata": {
    "collapsed": false
   },
   "outputs": [
    {
     "name": "stdout",
     "output_type": "stream",
     "text": [
      "i can dig it!! rt @bieberboners_: this song is pure gold  https://t.co/b1j8a10ipi\n",
      "i can dig it!! rt @bieberboners_: this song is pure gold  https://t.co/b1j8a10ipi\n"
     ]
    }
   ],
   "source": [
    "# Using 'batch2tweet' :\n",
    "t = np.random.randint(B) # Pick a tweet\n",
    "print batch2tweet(batch, ACCEPTED_CHARS)[t]\n",
    "# or 'onehot2tweet' if the tweet has already been converted to onehot :\n",
    "print onehot2tweet(one_hot_batch, ACCEPTED_CHARS)[t]"
   ]
  },
  {
   "cell_type": "markdown",
   "metadata": {},
   "source": [
    "# Generator"
   ]
  },
  {
   "cell_type": "code",
   "execution_count": 14,
   "metadata": {
    "collapsed": false
   },
   "outputs": [],
   "source": [
    "def batch_generator(data, index, batch_size, D): # see preprocessing.py\n",
    "    # Init iterator and shuffling the dataset\n",
    "    count = 0\n",
    "    np.random.shuffle(index)\n",
    "    while 1:\n",
    "        if count+batch_size >= len(index):\n",
    "            # Reset counter and shuffling\n",
    "            count = 0\n",
    "            np.random.shuffle(index)\n",
    "        # Get raw data\n",
    "        raw_batch = np.copy(data[index[count:(count+batch_size)]])\n",
    "        # One-hot encoding\n",
    "        one_hot_batch = batch2onehot(raw_batch, D)\n",
    "        # Remove the padding dimension\n",
    "        one_hot_batch = one_hot_batch[:,:,0:(D-1)] # s.t. padding features are full of 0s\n",
    "                                                   # and will be masked by the Masking layer\n",
    "                                                   # (see below in the model definition)\n",
    "        # Target\n",
    "        input_batch  = one_hot_batch[:, 0:-1, :]\n",
    "        target_batch = one_hot_batch[:, 1:, :] # target = 1-shifted input batch\n",
    "        del raw_batch\n",
    "        count += batch_size\n",
    "        # Yield\n",
    "        yield input_batch, target_batch"
   ]
  },
  {
   "cell_type": "markdown",
   "metadata": {},
   "source": [
    "# Custom functions used to save stuff..."
   ]
  },
  {
   "cell_type": "markdown",
   "metadata": {},
   "source": [
    "**save_architecture** : save the architecture of the model in a text file.\n",
    "\n",
    "**create_log** : create a text file where the loss, and other metrics will be printed using **write_log**\n",
    "\n",
    "**ModelSaver** : Custom Keras callback (https://keras.io/callbacks/). This object is given to the 'fit' (or equivalently 'fit_generator') when launching a training. It permits to control when to save weights, and underwhich name."
   ]
  },
  {
   "cell_type": "code",
   "execution_count": 15,
   "metadata": {
    "collapsed": false
   },
   "outputs": [],
   "source": [
    "def save_architecture(model, path_out): # see logging.py\n",
    "    \"\"\"\n",
    "    Based on the keras utils 'model.summary()'\n",
    "    \"\"\"\n",
    "    # Redirect the print output the a textfile\n",
    "    orig_stdout = sys.stdout\n",
    "    # and store the architecture\n",
    "    f = file(os.path.join(path_out, \"architecture.txt\"), 'w')\n",
    "    sys.stdout = f\n",
    "    model.summary()\n",
    "    # Reset the print output direction\n",
    "    sys.stdout = orig_stdout\n",
    "    f.close()\n",
    "\n",
    "    open(os.path.join(path_out, \"config.json\"), 'w').write(model.to_json())\n",
    "\n",
    "\n",
    "def create_log(path, settings, filename=\"log.txt\"): # see logging.py\n",
    "    f = open(os.path.join(path, filename), \"w\")\n",
    "    f.writelines(str(settings))\n",
    "    f.writelines(\"\\n####\\nStarted on %s at %s\\n\" % (time.strftime(\"%d/%m/%Y\"), time.strftime(\"%H:%M:%S\")))\n",
    "    f.close()\n",
    "\n",
    "\n",
    "def write_log(path, string, filename=\"log.txt\"): # see logging.py\n",
    "    \"\"\"\n",
    "    Add a line at the end of a textfile.\n",
    "\n",
    "    :param path: textfile location\n",
    "    :param string: line to add\n",
    "    \"\"\"\n",
    "    # Open and Read\n",
    "    f = open(os.path.join(path, filename), \"r\")\n",
    "    lines = f.readlines()\n",
    "    f.close()\n",
    "    # Adding a line\n",
    "    lines.append(string)\n",
    "    # Write\n",
    "    f = open(os.path.join(path, filename), \"w\")\n",
    "    f.writelines(lines)\n",
    "    f.close()\n",
    "\n",
    "\n",
    "from keras.callbacks import Callback\n",
    "    \n",
    "class ModelSaver(Callback): # see logging.py\n",
    "    \"\"\"\n",
    "    Keras callback subclass which defines a saving procedure of the model being trained : after each epoch,\n",
    "    the last model is saved under the name 'after_random.cnn'. The best model is saved with the name 'best_model.cnn'.\n",
    "    The model after random can also be saved. And the model architecture is saved with the name 'config.network'.\n",
    "    Everything is stored using pickle.\n",
    "    \"\"\"\n",
    "\n",
    "    def __init__(self, path, path_weights, monitor, verbose=1):\n",
    "        super(Callback, self).__init__()\n",
    "        self.verbose = verbose\n",
    "        self.path = path\n",
    "        self.path_weights = path_weights\n",
    "        self.monitor = monitor\n",
    "        self.best = np.Inf\n",
    "        \n",
    "\n",
    "    def on_epoch_begin(self, epoch, logs={}):\n",
    "        self.epoch_start = time.time()\n",
    "\n",
    "    def on_epoch_end(self, epoch, logs={}):\n",
    "        self.epoch_end = time.time()\n",
    "        # get loss\n",
    "        monitor = logs.get(self.monitor)\n",
    "        # condition = True if loss decreased\n",
    "        condition = monitor < self.best\n",
    "\n",
    "        if condition:\n",
    "            # Save weights as \"best_model.weights\"\n",
    "            self.best = monitor\n",
    "            save_path = os.path.join(self.path_weights, \"best_model.weights\")\n",
    "            self.model.save_weights(save_path, overwrite=True)\n",
    "        else:\n",
    "            # Save weights as \"last_epoch.weights\"\n",
    "            save_path = os.path.join(self.path_weights, \"last_epoch.weights\")\n",
    "            self.model.save_weights(save_path, overwrite=True)\n",
    "        \n",
    "        # Log file management\n",
    "        if self.verbose > 0:\n",
    "            log_string = \"####\\nEpoch %d took %d s: \" % (epoch, int(self.epoch_end-self.epoch_start))\n",
    "            for k in logs.keys():\n",
    "                log_string += \"%s : %.4f # \" % (k, logs.get(k))\n",
    "            if condition:\n",
    "                log_string += \"\\tBEST\"\n",
    "            write_log(self.path, log_string)"
   ]
  },
  {
   "cell_type": "markdown",
   "metadata": {},
   "source": [
    "# Model definition"
   ]
  },
  {
   "cell_type": "code",
   "execution_count": 16,
   "metadata": {
    "collapsed": false,
    "scrolled": true
   },
   "outputs": [],
   "source": [
    "import keras.backend as K\n",
    "\n",
    "from keras.models import Model\n",
    "from keras.layers import Input, Dropout, TimeDistributed, Dense, Activation, ZeroPadding1D, AtrousConvolution1D, BatchNormalization\n",
    "from keras.optimizers import Adam\n",
    "from keras.callbacks import EarlyStopping"
   ]
  },
  {
   "cell_type": "code",
   "execution_count": 17,
   "metadata": {
    "collapsed": true
   },
   "outputs": [],
   "source": [
    "def CausalConvolution1D(input_layer, nfilters, filter_length, atrous_rate=1, activation=\"linear\", **kwargs):\n",
    "    total_length = filter_length + (filter_length-1)*(atrous_rate-1)\n",
    "    # Asymetric padding : 0 added only on the left side\n",
    "    padd = ZeroPadding1D((total_length-1,0))(input_layer)\n",
    "    # Convolution\n",
    "    conv = AtrousConvolution1D(nfilters, filter_length, atrous_rate=atrous_rate, border_mode='valid', **kwargs)(padd)\n",
    "    bn = BatchNormalization()(conv)\n",
    "    activ = Activation(activation)(bn)\n",
    "    # Return\n",
    "    return activ"
   ]
  },
  {
   "cell_type": "code",
   "execution_count": 33,
   "metadata": {
    "collapsed": false
   },
   "outputs": [],
   "source": [
    "def get_CausalCNN_v1(T, D, lr, nhidden, drop_rate): # see models.py\n",
    "    # Input layer\n",
    "    inputs = Input((T, D))\n",
    "    # Masking \"only-0\" input features : ZeroPadding do not support Masking\n",
    "    # masked = Masking(mask_value=0.0)(inputs)\n",
    "    # Hidden layers\n",
    "    for i in range(10):\n",
    "        if i == 0:\n",
    "            hidden  = CausalConvolution1D(inputs, 128, 11, atrous_rate=1, activation=\"relu\")\n",
    "        else:\n",
    "            hidden  = CausalConvolution1D(dropout, 128, 11, atrous_rate=1, activation=\"relu\")\n",
    "        dropout = Dropout(drop_rate)(hidden)\n",
    "    # Output layer : linear TimeDistributedDense + softmax\n",
    "    decoder = TimeDistributed(Dense(D))(dropout) # Apply the same dense layer on each timestep\n",
    "    outputs = Activation(\"softmax\") (decoder)\n",
    "\n",
    "    model = Model(input=inputs, output=outputs)\n",
    "\n",
    "    model.compile(optimizer=Adam(lr=lr), loss=\"categorical_crossentropy\")\n",
    "\n",
    "    return model\n",
    "\n",
    "def get_CausalCNN_v2(T, D, lr, drop_rate):\n",
    "    # Input layer\n",
    "    inputs = Input((T, D))\n",
    "    # Masking \"only-0\" input features : ZeroPadding do not support Masking\n",
    "    # masked = Masking(mask_value=0.0)(inputs)\n",
    "    # Hidden layers\n",
    "    for i in range(3):\n",
    "        if i == 0:\n",
    "            hidden  = CausalConvolution1D(inputs, 128, 3, atrous_rate=1, activation=\"linear\")\n",
    "            hidden  = CausalConvolution1D(hidden, 128, 5, atrous_rate=2, activation=\"relu\")\n",
    "        else:\n",
    "            hidden  = CausalConvolution1D(hidden, 128, 3, atrous_rate=1, activation=\"linear\")\n",
    "            hidden  = CausalConvolution1D(hidden, 128, 5, atrous_rate=2, activation=\"relu\")\n",
    "        dropout = Dropout(drop_rate)(hidden)\n",
    "    # Output layer : linear TimeDistributedDense + softmax\n",
    "    decoder = TimeDistributed(Dense(D))(dropout) # Apply the same dense layer on each timestep\n",
    "    outputs = Activation(\"softmax\") (decoder)\n",
    "\n",
    "    model = Model(input=inputs, output=outputs)\n",
    "\n",
    "    model.compile(optimizer=Adam(lr=lr), loss=\"categorical_crossentropy\")\n",
    "\n",
    "    return model"
   ]
  },
  {
   "cell_type": "markdown",
   "metadata": {},
   "source": [
    "### Model instanciation"
   ]
  },
  {
   "cell_type": "code",
   "execution_count": 35,
   "metadata": {
    "collapsed": false
   },
   "outputs": [],
   "source": [
    "LR = params.LR # learning rate\n",
    "T = params.T\n",
    "D = params.D\n",
    "model = get_CausalCNN_v2(T-1, D-1, LR, 0.1) # D-1 because params.D accounts for the padding dimension"
   ]
  },
  {
   "cell_type": "code",
   "execution_count": 36,
   "metadata": {
    "collapsed": false
   },
   "outputs": [
    {
     "name": "stdout",
     "output_type": "stream",
     "text": [
      "____________________________________________________________________________________________________\n",
      "Layer (type)                     Output Shape          Param #     Connected to                     \n",
      "====================================================================================================\n",
      "input_2 (InputLayer)             (None, 160, 63)       0                                            \n",
      "____________________________________________________________________________________________________\n",
      "zeropadding1d_11 (ZeroPadding1D) (None, 162, 63)       0           input_2[0][0]                    \n",
      "____________________________________________________________________________________________________\n",
      "atrousconvolution1d_11 (AtrousCon(None, 160, 128)      24320       zeropadding1d_11[0][0]           \n",
      "____________________________________________________________________________________________________\n",
      "batchnormalization_11 (BatchNorma(None, 160, 128)      256         atrousconvolution1d_11[0][0]     \n",
      "____________________________________________________________________________________________________\n",
      "activation_12 (Activation)       (None, 160, 128)      0           batchnormalization_11[0][0]      \n",
      "____________________________________________________________________________________________________\n",
      "zeropadding1d_12 (ZeroPadding1D) (None, 168, 128)      0           activation_12[0][0]              \n",
      "____________________________________________________________________________________________________\n",
      "atrousconvolution1d_12 (AtrousCon(None, 160, 128)      82048       zeropadding1d_12[0][0]           \n",
      "____________________________________________________________________________________________________\n",
      "batchnormalization_12 (BatchNorma(None, 160, 128)      256         atrousconvolution1d_12[0][0]     \n",
      "____________________________________________________________________________________________________\n",
      "activation_13 (Activation)       (None, 160, 128)      0           batchnormalization_12[0][0]      \n",
      "____________________________________________________________________________________________________\n",
      "zeropadding1d_13 (ZeroPadding1D) (None, 162, 128)      0           activation_13[0][0]              \n",
      "____________________________________________________________________________________________________\n",
      "atrousconvolution1d_13 (AtrousCon(None, 160, 128)      49280       zeropadding1d_13[0][0]           \n",
      "____________________________________________________________________________________________________\n",
      "batchnormalization_13 (BatchNorma(None, 160, 128)      256         atrousconvolution1d_13[0][0]     \n",
      "____________________________________________________________________________________________________\n",
      "activation_14 (Activation)       (None, 160, 128)      0           batchnormalization_13[0][0]      \n",
      "____________________________________________________________________________________________________\n",
      "zeropadding1d_14 (ZeroPadding1D) (None, 168, 128)      0           activation_14[0][0]              \n",
      "____________________________________________________________________________________________________\n",
      "atrousconvolution1d_14 (AtrousCon(None, 160, 128)      82048       zeropadding1d_14[0][0]           \n",
      "____________________________________________________________________________________________________\n",
      "batchnormalization_14 (BatchNorma(None, 160, 128)      256         atrousconvolution1d_14[0][0]     \n",
      "____________________________________________________________________________________________________\n",
      "activation_15 (Activation)       (None, 160, 128)      0           batchnormalization_14[0][0]      \n",
      "____________________________________________________________________________________________________\n",
      "zeropadding1d_15 (ZeroPadding1D) (None, 162, 128)      0           activation_15[0][0]              \n",
      "____________________________________________________________________________________________________\n",
      "atrousconvolution1d_15 (AtrousCon(None, 160, 128)      49280       zeropadding1d_15[0][0]           \n",
      "____________________________________________________________________________________________________\n",
      "batchnormalization_15 (BatchNorma(None, 160, 128)      256         atrousconvolution1d_15[0][0]     \n",
      "____________________________________________________________________________________________________\n",
      "activation_16 (Activation)       (None, 160, 128)      0           batchnormalization_15[0][0]      \n",
      "____________________________________________________________________________________________________\n",
      "zeropadding1d_16 (ZeroPadding1D) (None, 168, 128)      0           activation_16[0][0]              \n",
      "____________________________________________________________________________________________________\n",
      "atrousconvolution1d_16 (AtrousCon(None, 160, 128)      82048       zeropadding1d_16[0][0]           \n",
      "____________________________________________________________________________________________________\n",
      "batchnormalization_16 (BatchNorma(None, 160, 128)      256         atrousconvolution1d_16[0][0]     \n",
      "____________________________________________________________________________________________________\n",
      "activation_17 (Activation)       (None, 160, 128)      0           batchnormalization_16[0][0]      \n",
      "____________________________________________________________________________________________________\n",
      "dropout_13 (Dropout)             (None, 160, 128)      0           activation_17[0][0]              \n",
      "____________________________________________________________________________________________________\n",
      "timedistributed_2 (TimeDistribute(None, 160, 63)       8127        dropout_13[0][0]                 \n",
      "____________________________________________________________________________________________________\n",
      "activation_18 (Activation)       (None, 160, 63)       0           timedistributed_2[0][0]          \n",
      "====================================================================================================\n",
      "Total params: 378687\n",
      "____________________________________________________________________________________________________\n"
     ]
    }
   ],
   "source": [
    "model.summary()"
   ]
  },
  {
   "cell_type": "markdown",
   "metadata": {},
   "source": [
    "### Some test on random inputs"
   ]
  },
  {
   "cell_type": "code",
   "execution_count": 37,
   "metadata": {
    "collapsed": false,
    "scrolled": true
   },
   "outputs": [],
   "source": [
    "input_sequence = np.random.randn((T-1)*(D-1)).reshape((1, T-1, D-1))\n",
    "out = model.predict(input_sequence)"
   ]
  },
  {
   "cell_type": "code",
   "execution_count": 38,
   "metadata": {
    "collapsed": false
   },
   "outputs": [
    {
     "name": "stdout",
     "output_type": "stream",
     "text": [
      "(1L, 160L, 63L)\n"
     ]
    }
   ],
   "source": [
    "print out.shape"
   ]
  },
  {
   "cell_type": "markdown",
   "metadata": {},
   "source": [
    "#### Checking that the output does not depend on \"future\" timesteps"
   ]
  },
  {
   "cell_type": "code",
   "execution_count": 16,
   "metadata": {
    "collapsed": false
   },
   "outputs": [],
   "source": [
    "t0 = 70\n",
    "disturbed_input_sequence = np.copy(input_sequence)\n",
    "disturbed_input_sequence[0, t0:] = 0.\n",
    "out2 = model.predict(disturbed_input_sequence)"
   ]
  },
  {
   "cell_type": "markdown",
   "metadata": {},
   "source": [
    "#### The t0 first values should'nt have changed"
   ]
  },
  {
   "cell_type": "code",
   "execution_count": 17,
   "metadata": {
    "collapsed": false,
    "scrolled": true
   },
   "outputs": [
    {
     "data": {
      "text/plain": [
       "0"
      ]
     },
     "execution_count": 17,
     "metadata": {},
     "output_type": "execute_result"
    }
   ],
   "source": [
    "(out!=out2)[0:120].sum()"
   ]
  },
  {
   "cell_type": "markdown",
   "metadata": {},
   "source": [
    "# Training"
   ]
  },
  {
   "cell_type": "code",
   "execution_count": 18,
   "metadata": {
    "collapsed": false
   },
   "outputs": [],
   "source": [
    "params = reload(params)\n",
    "PATH_EXPERIMENT = params.PATH_EXPERIMENT\n",
    "NB_EPOCHS = params.NB_EPOCHS\n",
    "NB_SAMPLES_PER_EPOCH = params.NB_SAMPLES_PER_EPOCH\n",
    "PATIENCE = params.PATIENCE"
   ]
  },
  {
   "cell_type": "markdown",
   "metadata": {},
   "source": [
    "### Training function"
   ]
  },
  {
   "cell_type": "code",
   "execution_count": 78,
   "metadata": {
    "collapsed": true
   },
   "outputs": [],
   "source": [
    "def trainargs2strings(path, model, dataset, index_train, index_valid, D, batch_size, \n",
    "             nsamples_per_epoch, nepoch, patience): # see logging.py\n",
    "    settings = \"\"\n",
    "    settings += \"Path : %s\"%path\n",
    "    settings += \"\\nDataset shape :\" + str(dataset.shape)\n",
    "    settings += \"\\nNtrain : %d\"%len(index_train)\n",
    "    settings += \"\\nNvalid : %d\"%len(index_valid)\n",
    "    settings += \"\\nBatch size : %d\"%batch_size\n",
    "    settings += \"\\nNb samples per epoch : %d\"%nsamples_per_epoch\n",
    "    settings += \"\\nNb epochs : %d\"%nepoch\n",
    "    settings += \"\\nPatience : %d\"%patience\n",
    "    return settings"
   ]
  },
  {
   "cell_type": "code",
   "execution_count": 79,
   "metadata": {
    "collapsed": false
   },
   "outputs": [],
   "source": [
    "def training(path, model, dataset, index_train, index_valid, D, batch_size, \n",
    "             nsamples_per_epoch, nepoch, patience): # see training.py\n",
    "    start = time.time()\n",
    "    # Create dir (if not already done)\n",
    "    if os.path.exists(path) is False:\n",
    "        os.mkdir(os.path.abspath(path))\n",
    "    path_weights = os.path.join(path, \"weights\")\n",
    "    if os.path.exists(path_weights) is False:\n",
    "        os.mkdir(os.path.abspath(path_weights))\n",
    "    # Create log file\n",
    "    settings = trainargs2strings(path, model, dataset, index_train, index_valid, D, batch_size, \n",
    "                                 nsamples_per_epoch, nepoch, patience)\n",
    "    create_log(path, settings)\n",
    "    # Save architecture\n",
    "    save_architecture(model, path)\n",
    "    # Save weights after initialization\n",
    "    model.save_weights(os.path.join(path_weights, \"after_initialization.weights\"), \n",
    "                       overwrite=True)\n",
    "\n",
    "    # Callbacks\n",
    "    early_stopping = EarlyStopping(monitor=\"val_loss\", patience=patience)\n",
    "    model_saver = ModelSaver(path, os.path.join(path, \"weights\"), monitor=\"val_loss\")\n",
    "    # Argument to give to generators\n",
    "    train_generator_args = [dataset, index_train, batch_size, D]\n",
    "    valid_generator_args = [dataset, index_valid, batch_size, D]\n",
    "    # Training loop\n",
    "    h = model.fit_generator(batch_generator(*train_generator_args), nsamples_per_epoch, nepoch, \n",
    "                            validation_data=batch_generator(*valid_generator_args), \n",
    "                            nb_val_samples=len(index_valid),\n",
    "                            callbacks=[early_stopping, model_saver])\n",
    "\n",
    "    end = time.time()\n",
    "    print \"Training took %.2fs\"%(end-start)"
   ]
  },
  {
   "cell_type": "markdown",
   "metadata": {},
   "source": [
    "### Training test"
   ]
  },
  {
   "cell_type": "code",
   "execution_count": null,
   "metadata": {
    "collapsed": false
   },
   "outputs": [],
   "source": [
    "# Quick test\n",
    "b = 32 # batch size\n",
    "n = b*50 # number of examples in 1 epoch\n",
    "nepoch = 3 # number of epochs\n",
    "patience = 3 # patience\n",
    "\n",
    "training(\"experiments/causalCNN_debug\", model, DATASET, index_train, index_valid[0:(b*50)], D, \n",
    "         b, n, nepoch, patience)"
   ]
  },
  {
   "cell_type": "markdown",
   "metadata": {},
   "source": [
    "# Test - Tweet generation"
   ]
  },
  {
   "cell_type": "markdown",
   "metadata": {
    "collapsed": true
   },
   "source": [
    "Needs to be filled - Sampling functions - \"Temperature\""
   ]
  },
  {
   "cell_type": "markdown",
   "metadata": {},
   "source": [
    "### Load weights"
   ]
  },
  {
   "cell_type": "code",
   "execution_count": 42,
   "metadata": {
    "collapsed": false
   },
   "outputs": [],
   "source": [
    "w = np.load(\"experiments/causalCNN_3x_kernel3_and_5dilated_128n/weights/best_model.npy\")\n",
    "model.set_weights(w)"
   ]
  },
  {
   "cell_type": "code",
   "execution_count": 43,
   "metadata": {
    "collapsed": false
   },
   "outputs": [
    {
     "name": "stdout",
     "output_type": "stream",
     "text": [
      "Iteration 293 - Valid loss = 1.54033 \n",
      "\n",
      "Valid loss = 1.54033\n"
     ]
    }
   ],
   "source": [
    "valid_loss = 0\n",
    "subset = 512\n",
    "#\n",
    "for count in range(len(index_valid)):\n",
    "    if (count+1)*subset > len(index_valid):\n",
    "        break\n",
    "    valid_data = batch2onehot(DATASET[index_valid[(count*subset):((count+1)*subset)]], D)\n",
    "    valid_data = valid_data[:,:,0:-1]\n",
    "    # Sample weights\n",
    "    sample_weights = float(T-1) / valid_data.sum(axis=2).sum(axis=1)\n",
    "    # Evaluate\n",
    "    valid_loss += model.evaluate(valid_data[:,0:-1], valid_data[:,1:], sample_weight=sample_weights, \n",
    "                   batch_size=subset, verbose=0)\n",
    "    print \"\\rIteration %d - Valid loss = %.5f\"%(count, valid_loss/(count+1)),\n",
    "\n",
    "print \"\\n\\nValid loss = %.5f\"%(valid_loss/count)             "
   ]
  },
  {
   "cell_type": "code",
   "execution_count": 43,
   "metadata": {
    "collapsed": true
   },
   "outputs": [],
   "source": [
    "out = model.predict(valid_data[:,0:-1])"
   ]
  },
  {
   "cell_type": "code",
   "execution_count": 52,
   "metadata": {
    "collapsed": false
   },
   "outputs": [
    {
     "data": {
      "text/plain": [
       "0.98177066992064144"
      ]
     },
     "execution_count": 52,
     "metadata": {},
     "output_type": "execute_result"
    }
   ],
   "source": [
    "loss = 0\n",
    "for sample, pred in zip(valid_data, out):\n",
    "    nb_char = np.sum(sample)\n",
    "    loss = (160./nb_char)*np.mean(-(valid_data[:,1:]*np.log(pred+1e-6)).sum(axis=1))"
   ]
  },
  {
   "cell_type": "markdown",
   "metadata": {},
   "source": [
    "### Sampling functions"
   ]
  },
  {
   "cell_type": "code",
   "execution_count": 44,
   "metadata": {
    "collapsed": false
   },
   "outputs": [],
   "source": [
    "def update_temperature(probas, temperature):\n",
    "    # Changing the temperature\n",
    "    p = np.log(probas)/temperature\n",
    "    # Robust softmax\n",
    "    p = p - p.max()\n",
    "    p = np.exp(p)/np.sum(np.exp(p))\n",
    "    return p\n",
    "\n",
    "def sample(probas, temperature=1):\n",
    "    \"\"\"Sample from a given discrete distribution.\"\"\"\n",
    "    # Temperature\n",
    "    p = update_temperature(probas, temperature)\n",
    "    # Sample\n",
    "    s = np.random.choice(range(p.shape[0]), p=p)\n",
    "    return s"
   ]
  },
  {
   "cell_type": "markdown",
   "metadata": {},
   "source": [
    "### Visualize the effect of \"update_temperature\""
   ]
  },
  {
   "cell_type": "code",
   "execution_count": 45,
   "metadata": {
    "collapsed": false
   },
   "outputs": [
    {
     "data": {
      "image/png": "[encoded data removed]",
      "text/plain": [
       "<matplotlib.figure.Figure at 0x2ad28048>"
      ]
     },
     "metadata": {},
     "output_type": "display_data"
    }
   ],
   "source": [
    "first_character = \" \"\n",
    "i = np.where(np.array(ACCEPTED_CHARS)==first_character)[0]\n",
    "# Build a sequence with only the first character defined\n",
    "sequence = np.zeros((1, T-1, D-1), \"float32\")\n",
    "sequence[0,0,i] = 1\n",
    "out = model.predict(sequence)\n",
    "# Get a distribution\n",
    "distribution = out[0,0]\n",
    "\n",
    "temperatures = [0.01, 0.5, 1., 2., 10.]\n",
    "colors = [\"yellow\", \"orange\", \"tomato\", \"red\", \"darkred\"]\n",
    "# Update temperature\n",
    "plt.figure(figsize=(12,10))\n",
    "for i, tmp, c in zip(range(len(temperatures)), temperatures, colors):\n",
    "    plt.subplot(len(temperatures),1,i+1)\n",
    "    new_distribution = update_temperature(distribution, tmp)\n",
    "    plt.bar(range(new_distribution.shape[0]), new_distribution, color=c, \n",
    "            label=\"Temperature = %.2f\"%tmp)\n",
    "    plt.ylim([0,max(0.25,new_distribution.max())])\n",
    "    plt.xlim([0,64])\n",
    "    plt.legend()\n",
    "plt.show()"
   ]
  },
  {
   "cell_type": "markdown",
   "metadata": {},
   "source": [
    "### Generate a tweet - character by character"
   ]
  },
  {
   "cell_type": "markdown",
   "metadata": {},
   "source": [
    "#### Temperature = 0.01 - Most probable tweet starting from a given letter"
   ]
  },
  {
   "cell_type": "markdown",
   "metadata": {},
   "source": [
    "#### First CNN - Deep (10 layers) - No Atrous Conv - BN"
   ]
  },
  {
   "cell_type": "code",
   "execution_count": 101,
   "metadata": {
    "collapsed": false
   },
   "outputs": [
    {
     "name": "stdout",
     "output_type": "stream",
     "text": [
      " First char = a | Tweet : a sex pics https://t.co/tmktakntqn\n",
      "\n",
      "First char = b | Tweet : beautiful sex https://t.co/ncetaxnaac\n",
      "\n",
      "First char = c | Tweet : come join me, or you'll be left behind #bigolive. https://t.co/qqhdqxqtee https://t.co/ttxhhhhhhq\n",
      "\n",
      "First char = d | Tweet : don't start the star that i want to be a start of the state of the state of the state of the state of the state of the state of the state of the state of the st\n",
      "\n",
      "First char = e | Tweet : every mom on christmas while you opening up that gift they swore they wasn't getting you https://t.co/qhghhhhhhh\n",
      "\n",
      "First char = f | Tweet : for the state of the state of the state of the state of the state of the state of the state of the state of the state of the state of the state of the state of \n",
      "\n",
      "First char = g | Tweet : good to the start of the state of the state of the state of the state of the state of the state of the state of the state of the state of the state of the state\n",
      "\n",
      "First char = h | Tweet : how to start the star the star https://t.co/teeanettta\n",
      "\n",
      "First char = i | Tweet : i liked a @youtube video from @thesellaring https://t.co/tteeeetttn the star the star https://t.co/thhhhhhhhh\n",
      "\n",
      "First char = j | Tweet : join the star the star https://t.co/teeahmaant\n",
      "\n",
      "First char = k | Tweet : king and the star and the start of the state of the state of the state of the state of the state of the state of the state of the state of the state of the stat\n",
      "\n",
      "First char = l | Tweet : like the state of the state of the state of the state of the state of the state of the state of the state of the state of the state of the state of the state of\n",
      "\n",
      "First char = m | Tweet : man i still say the start of the state of the state of the state of the state of the state of the state of the state of the state of the state of the state of t\n",
      "\n",
      "First char = n | Tweet : not the start of the state of the state of the state of the state of the state of the state of the state of the state of the state of the state of the state of \n",
      "\n",
      "First char = o | Tweet : one person followed me // automatically checked by https://t.co/tefttcktnq\n",
      "\n",
      "First char = p | Tweet : porn https://t.co/tnttqmxtnn\n",
      "\n",
      "First char = q | Tweet : qeat the state and start and the start of the state of the state of the state of the state of the state of the state of the state of the state of the state of t\n",
      "\n",
      "First char = r | Tweet : rt @stylefashionhub: #bohemian #earrings lade #dawrizear #jewelry #etsy #etsyshop by jabberduck https://t.co/xvwlqxqswe https://t.co/ttxhhhhqqq\n",
      "\n",
      "First char = s | Tweet : so i want to be a start of the state of the state of the state of the state of the state of the state of the state of the state of the state of the state of the\n",
      "\n",
      "First char = t | Tweet : the start of the state of the state of the state of the state of the state of the state of the state of the state of the state of the state of the state of the \n",
      "\n",
      "First char = u | Tweet : until the start of the state of the state of the state of the state of the state of the state of the state of the state of the state of the state of the state o\n",
      "\n",
      "First char = v | Tweet : video https://t.co/ttzaqkttta\n",
      "\n",
      "First char = w | Tweet : what i want to be a start of the state of the state of the state of the state of the state of the state of the state of the state of the state of the state of t\n",
      "\n",
      "First char = x | Tweet : x sex pics https://t.co/tmeqremncq\n",
      "\n",
      "First char = y | Tweet : you are a state of the state of the state of the state of the state of the state of the state of the state of the state of the state of the state of the state o\n",
      "\n",
      "First char = z | Tweet : zing the start of the state of the state of the state of the state of the state of the state of the state of the state of the state of the state of the state of\n",
      "\n"
     ]
    }
   ],
   "source": [
    "for first_character in \"abcdefghijklmnopqrstuvwxyz\":\n",
    "    temperature = 0.01\n",
    "    i = np.where(np.array(ACCEPTED_CHARS)==first_character)[0]\n",
    "\n",
    "    sequence = np.zeros((1, T-1, D-1), \"float32\")\n",
    "    sequence[0,0,i] = 1\n",
    "\n",
    "    print \"First char =\", first_character, \"| Tweet :\", \n",
    "    for t in range(T-2):\n",
    "        out = model.predict(sequence)   \n",
    "        out = out.astype(\"float64\")\n",
    "        next_char = sample(out[0, t], temperature=temperature)\n",
    "        sequence[0,t+1,next_char] = 1\n",
    "        if next_char != 62:\n",
    "            char = ACCEPTED_CHARS[next_char]\n",
    "        else:\n",
    "            break\n",
    "        #print char,\n",
    "\n",
    "    print onehot2tweet(sequence, ACCEPTED_CHARS)[0] + \"\\n\""
   ]
  },
  {
   "cell_type": "markdown",
   "metadata": {},
   "source": [
    "#### 2nd CNN -  Atrous Conv - BN"
   ]
  },
  {
   "cell_type": "code",
   "execution_count": 46,
   "metadata": {
    "collapsed": false
   },
   "outputs": [
    {
     "name": "stdout",
     "output_type": "stream",
     "text": [
      "First char = a | Tweet : and i want to see the same thing i was a bit of the year un-leashed by @tmobile #amas https://t.co/jjiqsjtian\n",
      "\n",
      "First char = b | Tweet : beautiful https://t.co/aoaaoeerta\n",
      "\n",
      "First char = c | Tweet : come join me, or you'll be left behind #bigolive. https://t.co/jjjhenhoia\n",
      "\n",
      "First char = d | Tweet : don't be afraid to see the same thing i was a bit of the year un-leashed by @tmobile #amas https://t.co/jjisjhooia\n",
      "\n",
      "First char = e | Tweet : every time i was a bit of the year un-leashed by @tmobile #amas https://t.co/jjauejnoai\n",
      "\n",
      "First char = f | Tweet : found a transponder snail!\n",
      "https://t.co/oaitieeeho https://t.co/hoaeoeoaea\n",
      "\n",
      "First char = g | Tweet : good morning and i was a bit of the year un-leashed by @tmobile #amas https://t.co/jjiqeaeeoa\n",
      "\n",
      "First char = h | Tweet : how to the moon and the same thing i want to see the same thing i was a bit of the year un-leashed by @tmobile #amas https://t.co/hoaeeeeijq\n",
      "\n",
      "First char = i | Tweet : i liked a @youtube video https://t.co/lojoaeejei\n",
      "\n",
      "First char = j | Tweet : just posted a photo https://t.co/ieeeeeeeee\n",
      "\n",
      "First char = k | Tweet : kinda start a conference in the state of the same thing i was a bit of the year un-leashed by @tmobile #amas https://t.co/jjijohoiia\n",
      "\n",
      "First char = l | Tweet : like this is a great signed in the state of the same thing i was a bit of the year at the #amas https://t.co/beixemeija\n",
      "\n",
      "First char = m | Tweet : man i want to see the same thing i was a bit of the year un-leashed by @tmobile #amas https://t.co/jjiqehoiia\n",
      "\n",
      "First char = n | Tweet : new post on the sex https://t.co/hoaeeeeive\n",
      "\n",
      "First char = o | Tweet : one person followed me // automatically checked by https://t.co/aajojieeio\n",
      "\n",
      "First char = p | Tweet : porn star and the shit is a story of the conference in the state of the same thing i was a bit of the year un-leashed by @tmobile #amas https://t.co/jjijohojoa\n",
      "\n",
      "First char = q | Tweet : quick is a second to the start the same thing i want to see the same thing i was a bit of the year un-leashed by @tmobile #amas https://t.co/jjiqeamohh\n",
      "\n",
      "First char = r | Tweet : rt @stylefashionhub: #supermoon #standing #sex #sexy #startup #contreport #trump #season #sex #sexy #startup #contreport #trump #season #sex #sexy #startup #con\n",
      "\n",
      "First char = s | Tweet : someone who wants to stay and i want to see the same thing i want to see the same thing i was a bit of the year un-leashed by @tmobile #amas https://t.co/jjijoh\n",
      "\n",
      "First char = t | Tweet : the same thing i want to see the same thing i was a bit of the year un-leashed by @tmobile #amas https://t.co/jjisenhovo\n",
      "\n",
      "First char = u | Tweet : united states https://t.co/weiqejejho\n",
      "\n",
      "First char = v | Tweet : video https://t.co/oiioohhhva\n",
      "\n",
      "First char = w | Tweet : what i want to see the same thing i want to see the same thing i want to see the same thing i was a bit of the year un-leashed by @tmobile #amas https://t.co/jj\n",
      "\n",
      "First char = x | Tweet : xxx https://t.co/hoaeoeeoeo\n",
      "\n",
      "First char = y | Tweet : you can see you so much for the show https://t.co/jjanojseea\n",
      "\n",
      "First char = z | Tweet : zayn you can do it to the moon and the same thing i want to see the same thing i was a bit of the year un-leashed by @tmobile #amas https://t.co/jjiponsemn\n",
      "\n"
     ]
    }
   ],
   "source": [
    "for first_character in \"abcdefghijklmnopqrstuvwxyz\":\n",
    "    temperature = 0.01\n",
    "    i = np.where(np.array(ACCEPTED_CHARS)==first_character)[0]\n",
    "\n",
    "    sequence = np.zeros((1, T-1, D-1), \"float32\")\n",
    "    sequence[0,0,i] = 1\n",
    "\n",
    "    print \"First char =\", first_character, \"| Tweet :\", \n",
    "    for t in range(T-2):\n",
    "        out = model.predict(sequence)   \n",
    "        out = out.astype(\"float64\")\n",
    "        next_char = sample(out[0, t], temperature=temperature)\n",
    "        sequence[0,t+1,next_char] = 1\n",
    "        if next_char != 62:\n",
    "            char = ACCEPTED_CHARS[next_char]\n",
    "        else:\n",
    "            break\n",
    "        #print char,\n",
    "\n",
    "    print onehot2tweet(sequence, ACCEPTED_CHARS)[0] + \"\\n\""
   ]
  },
  {
   "cell_type": "markdown",
   "metadata": {},
   "source": [
    "### Temperature = 1. "
   ]
  },
  {
   "cell_type": "code",
   "execution_count": 92,
   "metadata": {
    "collapsed": false
   },
   "outputs": [
    {
     "name": "stdout",
     "output_type": "stream",
     "text": [
      "t h e   b e s t .   i s   t h e   t o p   e y e s   i   l o v e   y o u .   h t t p s : / / t . c o / z o g q i q i s 5 n"
     ]
    },
    {
     "data": {
      "text/plain": [
       "['the best. is the top eyes i love you. https://t.co/zogqiqis5n']"
      ]
     },
     "execution_count": 92,
     "metadata": {},
     "output_type": "execute_result"
    },
    {
     "name": "stdout",
     "output_type": "stream",
     "text": [
      "\n"
     ]
    }
   ],
   "source": [
    "first_character = \"t\"\n",
    "temperature = 1.\n",
    "i = np.where(np.array(ACCEPTED_CHARS)==first_character)[0]\n",
    "\n",
    "sequence = np.zeros((1, T-1, D-1), \"float32\")\n",
    "sequence[0,0,i] = 1\n",
    "\n",
    "print first_character,\n",
    "for t in range(T-2):\n",
    "    out = model.predict(sequence)   \n",
    "    out = out.astype(\"float64\")\n",
    "    next_char = sample(out[0, t], temperature=temperature)\n",
    "    sequence[0,t+1,next_char] = 1\n",
    "    if next_char != 62:\n",
    "        char = ACCEPTED_CHARS[next_char]\n",
    "    else:\n",
    "        break\n",
    "    print char,\n",
    "    \n",
    "onehot2tweet(sequence, ACCEPTED_CHARS)"
   ]
  },
  {
   "cell_type": "markdown",
   "metadata": {},
   "source": [
    "### Lower  temperature"
   ]
  },
  {
   "cell_type": "code",
   "execution_count": 188,
   "metadata": {
    "collapsed": false
   },
   "outputs": [
    {
     "name": "stdout",
     "output_type": "stream",
     "text": [
      "m a k e   s u r e   t o   s t a y   a b o u t   w h a t   i   d o   u   s a w   i t ,   i   w a s   l i k e   t h e y   t h i n k   y o u   h e l p   m e   t h e r e   a r e   s o   i m p o r t a n t   t o   h a n g   a n d   s o n   h e   d o e s   t h e y   a r e   c a l l   o f   t h e   s a m e   n e w   p a t   o"
     ]
    },
    {
     "data": {
      "text/plain": [
       "['make sure to stay about what i do u saw it, i was like they think you help me there are so important to hang and son he does they are call of the same new pat o']"
      ]
     },
     "execution_count": 188,
     "metadata": {},
     "output_type": "execute_result"
    },
    {
     "name": "stdout",
     "output_type": "stream",
     "text": [
      "\n"
     ]
    }
   ],
   "source": [
    "first_character = \"m\"\n",
    "temperature = 0.5\n",
    "i = np.where(np.array(ACCEPTED_CHARS)==first_character)[0]\n",
    "\n",
    "sequence = np.zeros((1, T-1, D-1), \"float32\")\n",
    "sequence[0,0,i] = 1\n",
    "\n",
    "print first_character,\n",
    "for t in range(T-2):\n",
    "    out = model.predict(sequence)   \n",
    "    out = out.astype(\"float64\")\n",
    "    next_char = sample(out[0, t], temperature=temperature)\n",
    "    sequence[0,t+1,next_char] = 1\n",
    "    if next_char != 62:\n",
    "        char = ACCEPTED_CHARS[next_char]\n",
    "    else:\n",
    "        break\n",
    "    print char,\n",
    "    \n",
    "onehot2tweet(sequence, ACCEPTED_CHARS)"
   ]
  },
  {
   "cell_type": "code",
   "execution_count": null,
   "metadata": {
    "collapsed": true
   },
   "outputs": [],
   "source": []
  },
  {
   "cell_type": "code",
   "execution_count": null,
   "metadata": {
    "collapsed": true
   },
   "outputs": [],
   "source": []
  },
  {
   "cell_type": "code",
   "execution_count": null,
   "metadata": {
    "collapsed": true
   },
   "outputs": [],
   "source": []
  }
 ],
 "metadata": {
  "kernelspec": {
   "display_name": "Python 2",
   "language": "python",
   "name": "python2"
  },
  "language_info": {
   "codemirror_mode": {
    "name": "ipython",
    "version": 2
   },
   "file_extension": ".py",
   "mimetype": "text/x-python",
   "name": "python",
   "nbconvert_exporter": "python",
   "pygments_lexer": "ipython2",
   "version": "2.7.6"
  }
 },
 "nbformat": 4,
 "nbformat_minor": 0
}
